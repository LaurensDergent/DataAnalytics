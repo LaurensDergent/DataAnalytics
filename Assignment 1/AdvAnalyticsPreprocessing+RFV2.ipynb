{
 "cells": [
  {
   "cell_type": "code",
   "execution_count": 1,
   "id": "d77eea7d-df06-463d-bea6-917a07690551",
   "metadata": {},
   "outputs": [],
   "source": [
    "import pandas as pd\n",
    "from datetime import datetime\n",
    "import seaborn as sns\n",
    "from sklearn.model_selection import train_test_split\n",
    "from sklearn.impute import SimpleImputer\n",
    "from collections import defaultdict\n",
    "from sklearn.compose import ColumnTransformer\n",
    "from sklearn.preprocessing import MinMaxScaler\n",
    "from sklearn.pipeline import Pipeline\n",
    "from sklearn.ensemble import RandomForestClassifier\n",
    "from sklearn import metrics\n",
    "import matplotlib.pyplot as plt\n",
    "import numpy as np\n",
    "from imblearn.over_sampling import SMOTE\n",
    "from imblearn.under_sampling import RandomUnderSampler\n",
    "from sklearn.preprocessing import LabelEncoder\n",
    "\n",
    "\n",
    "train = pd.read_csv(\"train.csv\")\n",
    "test = pd.read_csv(\"test.csv\")\n",
    "\n",
    "extra_params = {\"feature_tools\" : 1, \"undersampling\" : 0, \"oversampling\" : 1, \"drop_cat_vars\" : 0, \"date_column\" : 1, \"corr_thresh\" : 0.9}"
   ]
  },
  {
   "cell_type": "markdown",
   "id": "76b0a7e2-302f-468d-a7ce-5c26e49450eb",
   "metadata": {},
   "source": [
    "### Division of Sets"
   ]
  },
  {
   "cell_type": "code",
   "execution_count": 2,
   "id": "f605fbfd-1132-4c29-8202-cd60fe810191",
   "metadata": {},
   "outputs": [],
   "source": [
    "X = train.drop(columns = \"target\")\n",
    "y = train[\"target\"]"
   ]
  },
  {
   "cell_type": "code",
   "execution_count": 3,
   "id": "d05c9fac-609a-4ce9-bc68-daf005aaa96f",
   "metadata": {},
   "outputs": [],
   "source": [
    "X_train, X_val, y_train, y_val = train_test_split(X, y, test_size=0.2, random_state=42)\n"
   ]
  },
  {
   "cell_type": "code",
   "execution_count": 4,
   "id": "6394db26-7a94-44c7-ab86-97c922e565fa",
   "metadata": {},
   "outputs": [],
   "source": [
    "X_train['target'] = y_train\n",
    "X_val['target'] = y_val"
   ]
  },
  {
   "cell_type": "code",
   "execution_count": 5,
   "id": "b5ea743b-b1fe-4306-8ac3-fb0a97c39636",
   "metadata": {},
   "outputs": [],
   "source": [
    "train = X_train.copy()\n",
    "val = X_val.copy()"
   ]
  },
  {
   "cell_type": "code",
   "execution_count": 6,
   "id": "19689f40-ad33-491e-88e0-c11e64c69d76",
   "metadata": {},
   "outputs": [],
   "source": [
    "#Keep average cost min\n",
    "averagecostmin = val['average cost min']\n",
    "idtest = test[\"id\"]"
   ]
  },
  {
   "cell_type": "markdown",
   "id": "3189082c-cd5a-406a-966b-4fb54b519bf6",
   "metadata": {},
   "source": [
    "### Initial Exploration"
   ]
  },
  {
   "cell_type": "code",
   "execution_count": 7,
   "id": "e1fe84ec-588a-4af9-887a-40012d7cd10e",
   "metadata": {},
   "outputs": [
    {
     "data": {
      "text/html": [
       "<div>\n",
       "<style scoped>\n",
       "    .dataframe tbody tr th:only-of-type {\n",
       "        vertical-align: middle;\n",
       "    }\n",
       "\n",
       "    .dataframe tbody tr th {\n",
       "        vertical-align: top;\n",
       "    }\n",
       "\n",
       "    .dataframe thead th {\n",
       "        text-align: right;\n",
       "    }\n",
       "</style>\n",
       "<table border=\"1\" class=\"dataframe\">\n",
       "  <thead>\n",
       "    <tr style=\"text-align: right;\">\n",
       "      <th></th>\n",
       "      <th>Age</th>\n",
       "      <th>L_O_S</th>\n",
       "      <th>Dropped_Calls</th>\n",
       "      <th>Peak_calls_Sum</th>\n",
       "      <th>Peak_mins_Sum</th>\n",
       "      <th>OffPeak_calls_Sum</th>\n",
       "      <th>OffPeak_mins_Sum</th>\n",
       "      <th>Weekend_calls_Sum</th>\n",
       "      <th>Weekend_mins_Sum</th>\n",
       "      <th>International_mins_Sum</th>\n",
       "      <th>...</th>\n",
       "      <th>call_cost_per_min</th>\n",
       "      <th>actual call cost</th>\n",
       "      <th>Total_call_cost</th>\n",
       "      <th>Total_Cost</th>\n",
       "      <th>average cost min</th>\n",
       "      <th>Peak ratio</th>\n",
       "      <th>OffPeak ratio</th>\n",
       "      <th>Weekend ratio</th>\n",
       "      <th>Nat-InterNat Ratio</th>\n",
       "      <th>target</th>\n",
       "    </tr>\n",
       "  </thead>\n",
       "  <tbody>\n",
       "    <tr>\n",
       "      <th>count</th>\n",
       "      <td>4035.000000</td>\n",
       "      <td>4035.000000</td>\n",
       "      <td>4035.000000</td>\n",
       "      <td>4035.000000</td>\n",
       "      <td>4035.000000</td>\n",
       "      <td>4035.000000</td>\n",
       "      <td>4035.000000</td>\n",
       "      <td>4035.000000</td>\n",
       "      <td>4035.000000</td>\n",
       "      <td>4035.000000</td>\n",
       "      <td>...</td>\n",
       "      <td>4032.000000</td>\n",
       "      <td>4035.000000</td>\n",
       "      <td>4035.000000</td>\n",
       "      <td>4035.000000</td>\n",
       "      <td>4035.000000</td>\n",
       "      <td>4035.000000</td>\n",
       "      <td>4035.000000</td>\n",
       "      <td>4035.000000</td>\n",
       "      <td>4035.000000</td>\n",
       "      <td>4035.000000</td>\n",
       "    </tr>\n",
       "    <tr>\n",
       "      <th>mean</th>\n",
       "      <td>31.414126</td>\n",
       "      <td>33.699347</td>\n",
       "      <td>2.673358</td>\n",
       "      <td>238.945229</td>\n",
       "      <td>708.792184</td>\n",
       "      <td>104.036431</td>\n",
       "      <td>311.938372</td>\n",
       "      <td>16.322677</td>\n",
       "      <td>50.079971</td>\n",
       "      <td>169.551549</td>\n",
       "      <td>...</td>\n",
       "      <td>10.081397</td>\n",
       "      <td>19.133955</td>\n",
       "      <td>73.501256</td>\n",
       "      <td>186.803427</td>\n",
       "      <td>0.168306</td>\n",
       "      <td>0.609716</td>\n",
       "      <td>0.327824</td>\n",
       "      <td>0.061717</td>\n",
       "      <td>0.162328</td>\n",
       "      <td>0.146716</td>\n",
       "    </tr>\n",
       "    <tr>\n",
       "      <th>std</th>\n",
       "      <td>12.775443</td>\n",
       "      <td>14.007828</td>\n",
       "      <td>3.418703</td>\n",
       "      <td>239.288923</td>\n",
       "      <td>503.929355</td>\n",
       "      <td>97.260823</td>\n",
       "      <td>199.167646</td>\n",
       "      <td>16.296733</td>\n",
       "      <td>36.092455</td>\n",
       "      <td>141.787096</td>\n",
       "      <td>...</td>\n",
       "      <td>2.108023</td>\n",
       "      <td>27.987193</td>\n",
       "      <td>60.000356</td>\n",
       "      <td>82.079489</td>\n",
       "      <td>0.077812</td>\n",
       "      <td>0.224430</td>\n",
       "      <td>0.209932</td>\n",
       "      <td>0.063644</td>\n",
       "      <td>0.105643</td>\n",
       "      <td>0.353867</td>\n",
       "    </tr>\n",
       "    <tr>\n",
       "      <th>min</th>\n",
       "      <td>12.000000</td>\n",
       "      <td>9.633333</td>\n",
       "      <td>0.000000</td>\n",
       "      <td>0.000000</td>\n",
       "      <td>0.000000</td>\n",
       "      <td>0.000000</td>\n",
       "      <td>0.000000</td>\n",
       "      <td>0.000000</td>\n",
       "      <td>0.000000</td>\n",
       "      <td>0.000000</td>\n",
       "      <td>...</td>\n",
       "      <td>2.000000</td>\n",
       "      <td>0.000000</td>\n",
       "      <td>0.000000</td>\n",
       "      <td>59.940000</td>\n",
       "      <td>0.048998</td>\n",
       "      <td>0.000000</td>\n",
       "      <td>0.000000</td>\n",
       "      <td>0.000000</td>\n",
       "      <td>0.000000</td>\n",
       "      <td>0.000000</td>\n",
       "    </tr>\n",
       "    <tr>\n",
       "      <th>25%</th>\n",
       "      <td>22.000000</td>\n",
       "      <td>21.300000</td>\n",
       "      <td>0.000000</td>\n",
       "      <td>59.000000</td>\n",
       "      <td>307.500000</td>\n",
       "      <td>28.000000</td>\n",
       "      <td>149.550000</td>\n",
       "      <td>4.000000</td>\n",
       "      <td>22.800000</td>\n",
       "      <td>64.261044</td>\n",
       "      <td>...</td>\n",
       "      <td>8.573250</td>\n",
       "      <td>0.000000</td>\n",
       "      <td>32.134081</td>\n",
       "      <td>123.802373</td>\n",
       "      <td>0.134413</td>\n",
       "      <td>0.466317</td>\n",
       "      <td>0.165139</td>\n",
       "      <td>0.020942</td>\n",
       "      <td>0.078918</td>\n",
       "      <td>0.000000</td>\n",
       "    </tr>\n",
       "    <tr>\n",
       "      <th>50%</th>\n",
       "      <td>29.000000</td>\n",
       "      <td>33.666667</td>\n",
       "      <td>1.000000</td>\n",
       "      <td>161.000000</td>\n",
       "      <td>614.400001</td>\n",
       "      <td>73.000000</td>\n",
       "      <td>291.000000</td>\n",
       "      <td>11.000000</td>\n",
       "      <td>44.399999</td>\n",
       "      <td>132.279506</td>\n",
       "      <td>...</td>\n",
       "      <td>9.518597</td>\n",
       "      <td>7.515854</td>\n",
       "      <td>57.801016</td>\n",
       "      <td>173.254831</td>\n",
       "      <td>0.154525</td>\n",
       "      <td>0.654877</td>\n",
       "      <td>0.287722</td>\n",
       "      <td>0.043932</td>\n",
       "      <td>0.157734</td>\n",
       "      <td>0.000000</td>\n",
       "    </tr>\n",
       "    <tr>\n",
       "      <th>75%</th>\n",
       "      <td>39.000000</td>\n",
       "      <td>45.933333</td>\n",
       "      <td>2.000000</td>\n",
       "      <td>343.000000</td>\n",
       "      <td>1014.300000</td>\n",
       "      <td>156.000000</td>\n",
       "      <td>446.400000</td>\n",
       "      <td>24.000000</td>\n",
       "      <td>71.750000</td>\n",
       "      <td>236.853610</td>\n",
       "      <td>...</td>\n",
       "      <td>11.696253</td>\n",
       "      <td>28.308661</td>\n",
       "      <td>99.217719</td>\n",
       "      <td>232.116107</td>\n",
       "      <td>0.179302</td>\n",
       "      <td>0.782261</td>\n",
       "      <td>0.458395</td>\n",
       "      <td>0.080924</td>\n",
       "      <td>0.244154</td>\n",
       "      <td>0.000000</td>\n",
       "    </tr>\n",
       "    <tr>\n",
       "      <th>max</th>\n",
       "      <td>80.000000</td>\n",
       "      <td>58.200000</td>\n",
       "      <td>15.000000</td>\n",
       "      <td>1626.000000</td>\n",
       "      <td>2901.600001</td>\n",
       "      <td>560.000000</td>\n",
       "      <td>1091.099999</td>\n",
       "      <td>106.000000</td>\n",
       "      <td>205.000000</td>\n",
       "      <td>935.947864</td>\n",
       "      <td>...</td>\n",
       "      <td>21.734694</td>\n",
       "      <td>184.892166</td>\n",
       "      <td>437.063835</td>\n",
       "      <td>587.063835</td>\n",
       "      <td>1.357564</td>\n",
       "      <td>1.000000</td>\n",
       "      <td>1.000000</td>\n",
       "      <td>0.731884</td>\n",
       "      <td>2.601223</td>\n",
       "      <td>1.000000</td>\n",
       "    </tr>\n",
       "  </tbody>\n",
       "</table>\n",
       "<p>8 rows × 30 columns</p>\n",
       "</div>"
      ],
      "text/plain": [
       "               Age        L_O_S  Dropped_Calls  Peak_calls_Sum  Peak_mins_Sum  \\\n",
       "count  4035.000000  4035.000000    4035.000000     4035.000000    4035.000000   \n",
       "mean     31.414126    33.699347       2.673358      238.945229     708.792184   \n",
       "std      12.775443    14.007828       3.418703      239.288923     503.929355   \n",
       "min      12.000000     9.633333       0.000000        0.000000       0.000000   \n",
       "25%      22.000000    21.300000       0.000000       59.000000     307.500000   \n",
       "50%      29.000000    33.666667       1.000000      161.000000     614.400001   \n",
       "75%      39.000000    45.933333       2.000000      343.000000    1014.300000   \n",
       "max      80.000000    58.200000      15.000000     1626.000000    2901.600001   \n",
       "\n",
       "       OffPeak_calls_Sum  OffPeak_mins_Sum  Weekend_calls_Sum  \\\n",
       "count        4035.000000       4035.000000        4035.000000   \n",
       "mean          104.036431        311.938372          16.322677   \n",
       "std            97.260823        199.167646          16.296733   \n",
       "min             0.000000          0.000000           0.000000   \n",
       "25%            28.000000        149.550000           4.000000   \n",
       "50%            73.000000        291.000000          11.000000   \n",
       "75%           156.000000        446.400000          24.000000   \n",
       "max           560.000000       1091.099999         106.000000   \n",
       "\n",
       "       Weekend_mins_Sum  International_mins_Sum  ...  call_cost_per_min  \\\n",
       "count       4035.000000             4035.000000  ...        4032.000000   \n",
       "mean          50.079971              169.551549  ...          10.081397   \n",
       "std           36.092455              141.787096  ...           2.108023   \n",
       "min            0.000000                0.000000  ...           2.000000   \n",
       "25%           22.800000               64.261044  ...           8.573250   \n",
       "50%           44.399999              132.279506  ...           9.518597   \n",
       "75%           71.750000              236.853610  ...          11.696253   \n",
       "max          205.000000              935.947864  ...          21.734694   \n",
       "\n",
       "       actual call cost  Total_call_cost   Total_Cost  average cost min  \\\n",
       "count       4035.000000      4035.000000  4035.000000       4035.000000   \n",
       "mean          19.133955        73.501256   186.803427          0.168306   \n",
       "std           27.987193        60.000356    82.079489          0.077812   \n",
       "min            0.000000         0.000000    59.940000          0.048998   \n",
       "25%            0.000000        32.134081   123.802373          0.134413   \n",
       "50%            7.515854        57.801016   173.254831          0.154525   \n",
       "75%           28.308661        99.217719   232.116107          0.179302   \n",
       "max          184.892166       437.063835   587.063835          1.357564   \n",
       "\n",
       "        Peak ratio  OffPeak ratio  Weekend ratio  Nat-InterNat Ratio  \\\n",
       "count  4035.000000    4035.000000    4035.000000         4035.000000   \n",
       "mean      0.609716       0.327824       0.061717            0.162328   \n",
       "std       0.224430       0.209932       0.063644            0.105643   \n",
       "min       0.000000       0.000000       0.000000            0.000000   \n",
       "25%       0.466317       0.165139       0.020942            0.078918   \n",
       "50%       0.654877       0.287722       0.043932            0.157734   \n",
       "75%       0.782261       0.458395       0.080924            0.244154   \n",
       "max       1.000000       1.000000       0.731884            2.601223   \n",
       "\n",
       "            target  \n",
       "count  4035.000000  \n",
       "mean      0.146716  \n",
       "std       0.353867  \n",
       "min       0.000000  \n",
       "25%       0.000000  \n",
       "50%       0.000000  \n",
       "75%       0.000000  \n",
       "max       1.000000  \n",
       "\n",
       "[8 rows x 30 columns]"
      ]
     },
     "execution_count": 7,
     "metadata": {},
     "output_type": "execute_result"
    }
   ],
   "source": [
    "train.describe()"
   ]
  },
  {
   "cell_type": "code",
   "execution_count": 8,
   "id": "df64bf10-853c-4384-b3b1-b84d352b5d14",
   "metadata": {},
   "outputs": [
    {
     "data": {
      "text/html": [
       "<div>\n",
       "<style scoped>\n",
       "    .dataframe tbody tr th:only-of-type {\n",
       "        vertical-align: middle;\n",
       "    }\n",
       "\n",
       "    .dataframe tbody tr th {\n",
       "        vertical-align: top;\n",
       "    }\n",
       "\n",
       "    .dataframe thead th {\n",
       "        text-align: right;\n",
       "    }\n",
       "</style>\n",
       "<table border=\"1\" class=\"dataframe\">\n",
       "  <thead>\n",
       "    <tr style=\"text-align: right;\">\n",
       "      <th></th>\n",
       "      <th>Gender</th>\n",
       "      <th>Connect_Date</th>\n",
       "      <th>tariff</th>\n",
       "      <th>Handset</th>\n",
       "      <th>Usage_Band</th>\n",
       "      <th>Tariff_OK</th>\n",
       "      <th>high Dropped calls</th>\n",
       "      <th>No Usage</th>\n",
       "      <th>id</th>\n",
       "    </tr>\n",
       "  </thead>\n",
       "  <tbody>\n",
       "    <tr>\n",
       "      <th>count</th>\n",
       "      <td>4035</td>\n",
       "      <td>4035</td>\n",
       "      <td>4035</td>\n",
       "      <td>4035</td>\n",
       "      <td>4032</td>\n",
       "      <td>4035</td>\n",
       "      <td>4035</td>\n",
       "      <td>4035</td>\n",
       "      <td>4035</td>\n",
       "    </tr>\n",
       "    <tr>\n",
       "      <th>unique</th>\n",
       "      <td>2</td>\n",
       "      <td>1310</td>\n",
       "      <td>5</td>\n",
       "      <td>11</td>\n",
       "      <td>5</td>\n",
       "      <td>4</td>\n",
       "      <td>2</td>\n",
       "      <td>2</td>\n",
       "      <td>4035</td>\n",
       "    </tr>\n",
       "    <tr>\n",
       "      <th>top</th>\n",
       "      <td>F</td>\n",
       "      <td>11/07/99</td>\n",
       "      <td>CAT 200</td>\n",
       "      <td>S50</td>\n",
       "      <td>Med</td>\n",
       "      <td>OK</td>\n",
       "      <td>F</td>\n",
       "      <td>F</td>\n",
       "      <td>K277140</td>\n",
       "    </tr>\n",
       "    <tr>\n",
       "      <th>freq</th>\n",
       "      <td>2042</td>\n",
       "      <td>11</td>\n",
       "      <td>1802</td>\n",
       "      <td>944</td>\n",
       "      <td>2232</td>\n",
       "      <td>4006</td>\n",
       "      <td>3933</td>\n",
       "      <td>4032</td>\n",
       "      <td>1</td>\n",
       "    </tr>\n",
       "  </tbody>\n",
       "</table>\n",
       "</div>"
      ],
      "text/plain": [
       "       Gender Connect_Date   tariff Handset Usage_Band Tariff_OK  \\\n",
       "count    4035         4035     4035    4035       4032      4035   \n",
       "unique      2         1310        5      11          5         4   \n",
       "top         F     11/07/99  CAT 200     S50        Med        OK   \n",
       "freq     2042           11     1802     944       2232      4006   \n",
       "\n",
       "       high Dropped calls No Usage       id  \n",
       "count                4035     4035     4035  \n",
       "unique                  2        2     4035  \n",
       "top                     F        F  K277140  \n",
       "freq                 3933     4032        1  "
      ]
     },
     "execution_count": 8,
     "metadata": {},
     "output_type": "execute_result"
    }
   ],
   "source": [
    "train.describe(include = 'object')"
   ]
  },
  {
   "cell_type": "markdown",
   "id": "fc2f9913-878f-44b0-988e-7aafd7c49780",
   "metadata": {},
   "source": [
    "Drop ID (too many unique values), No Usage (Only has False Values)"
   ]
  },
  {
   "cell_type": "code",
   "execution_count": 9,
   "id": "e7ccaee8-e9ac-4d59-8282-b3966d70dcdf",
   "metadata": {},
   "outputs": [],
   "source": [
    "train = train.drop(columns = [\"id\", \"No Usage\"])\n",
    "val = val.drop(columns = [\"id\", \"No Usage\"])\n",
    "test = test.drop(columns = [\"id\", \"No Usage\"])"
   ]
  },
  {
   "cell_type": "markdown",
   "id": "8fd9e910-0bba-43e1-b3a7-68bcbeb4fe92",
   "metadata": {},
   "source": [
    "### Preprocessing"
   ]
  },
  {
   "cell_type": "markdown",
   "id": "fddb5dce-c1c2-4436-a880-54ec9b2c210d",
   "metadata": {},
   "source": [
    "#### Feature Engineering"
   ]
  },
  {
   "cell_type": "code",
   "execution_count": 10,
   "id": "8ed1da7f-4f7a-434b-a468-1dda826e1b70",
   "metadata": {},
   "outputs": [],
   "source": [
    "if extra_params[\"date_column\"] == 1:\n",
    "    train[\"Connect_Date\"] = train[\"Connect_Date\"].apply(lambda x : datetime.strptime(x, \"%d/%m/%y\"))\n",
    "    test[\"Connect_Date\"] = test[\"Connect_Date\"].apply(lambda x : datetime.strptime(x, \"%d/%m/%y\"))\n",
    "    val[\"Connect_Date\"] = val[\"Connect_Date\"].apply(lambda x : datetime.strptime(x, \"%d/%m/%y\"))\n",
    "    \n",
    "    max_train = train[\"Connect_Date\"].max()\n",
    "    max_test = test[\"Connect_Date\"].max()\n",
    "    max_val = val[\"Connect_Date\"].max()\n",
    "\n",
    "    train[\"End_Date\"] = max_train\n",
    "    test[\"End_Date\"] = max_test\n",
    "    val[\"End_Date\"] = max_val\n",
    "\n",
    "    train[\"Connect_Time\"] = train[\"End_Date\"] - train[\"Connect_Date\"]\n",
    "    test[\"Connect_Time\"] = test[\"End_Date\"] - test[\"Connect_Date\"]\n",
    "    val[\"Connect_Time\"] = val[\"End_Date\"] - val[\"Connect_Date\"]\n",
    "\n",
    "    train[\"Connect_Time\"] = train[\"Connect_Time\"].apply(lambda x : x.days)\n",
    "    test[\"Connect_Time\"] = test[\"Connect_Time\"].apply(lambda x : x.days)\n",
    "    val[\"Connect_Time\"] = val[\"Connect_Time\"].apply(lambda x : x.days)\n",
    "\n",
    "    train = train.drop(columns = [\"End_Date\"])\n",
    "    test = test.drop(columns = [\"End_Date\"])\n",
    "    val = val.drop(columns = [\"End_Date\"])\n",
    "\n",
    "train = train.drop(columns = [\"Connect_Date\"])\n",
    "test = test.drop(columns = [\"Connect_Date\"])\n",
    "val = val.drop(columns = [\"Connect_Date\"])"
   ]
  },
  {
   "cell_type": "markdown",
   "id": "45c5b51a-8238-4775-9c2e-33bf3918529f",
   "metadata": {},
   "source": [
    "#### Missing Values"
   ]
  },
  {
   "cell_type": "code",
   "execution_count": 11,
   "id": "8488d5de-150b-40d4-abde-40442fa99f22",
   "metadata": {},
   "outputs": [
    {
     "data": {
      "text/plain": [
       "Gender                    0\n",
       "Age                       0\n",
       "L_O_S                     0\n",
       "Dropped_Calls             0\n",
       "tariff                    0\n",
       "Handset                   0\n",
       "Peak_calls_Sum            0\n",
       "Peak_mins_Sum             0\n",
       "OffPeak_calls_Sum         0\n",
       "OffPeak_mins_Sum          0\n",
       "Weekend_calls_Sum         0\n",
       "Weekend_mins_Sum          0\n",
       "International_mins_Sum    0\n",
       "Nat_call_cost_Sum         0\n",
       "AvePeak                   0\n",
       "AveOffPeak                0\n",
       "AveWeekend                0\n",
       "National_calls            0\n",
       "National mins             0\n",
       "AveNational               0\n",
       "All_calls_mins            0\n",
       "Dropped_calls_ratio       3\n",
       "Usage_Band                3\n",
       "Mins_charge               0\n",
       "call_cost_per_min         3\n",
       "actual call cost          0\n",
       "Total_call_cost           0\n",
       "Total_Cost                0\n",
       "Tariff_OK                 0\n",
       "average cost min          0\n",
       "Peak ratio                0\n",
       "OffPeak ratio             0\n",
       "Weekend ratio             0\n",
       "Nat-InterNat Ratio        0\n",
       "high Dropped calls        0\n",
       "target                    0\n",
       "Connect_Time              0\n",
       "dtype: int64"
      ]
     },
     "execution_count": 11,
     "metadata": {},
     "output_type": "execute_result"
    }
   ],
   "source": [
    "train.isna().sum()"
   ]
  },
  {
   "cell_type": "code",
   "execution_count": 12,
   "id": "65d8707a-e86b-4928-9a4e-baebb8e286a2",
   "metadata": {},
   "outputs": [],
   "source": [
    "rows_with_missing_values = train[train.isnull().any(axis=1)]"
   ]
  },
  {
   "cell_type": "code",
   "execution_count": 13,
   "id": "2b88f738-73d1-40ac-a36b-7c96f701de27",
   "metadata": {},
   "outputs": [
    {
     "data": {
      "text/html": [
       "<div>\n",
       "<style scoped>\n",
       "    .dataframe tbody tr th:only-of-type {\n",
       "        vertical-align: middle;\n",
       "    }\n",
       "\n",
       "    .dataframe tbody tr th {\n",
       "        vertical-align: top;\n",
       "    }\n",
       "\n",
       "    .dataframe thead th {\n",
       "        text-align: right;\n",
       "    }\n",
       "</style>\n",
       "<table border=\"1\" class=\"dataframe\">\n",
       "  <thead>\n",
       "    <tr style=\"text-align: right;\">\n",
       "      <th></th>\n",
       "      <th>call_cost_per_min</th>\n",
       "      <th>Dropped_calls_ratio</th>\n",
       "      <th>Usage_Band</th>\n",
       "    </tr>\n",
       "  </thead>\n",
       "  <tbody>\n",
       "    <tr>\n",
       "      <th>3836</th>\n",
       "      <td>NaN</td>\n",
       "      <td>NaN</td>\n",
       "      <td>NaN</td>\n",
       "    </tr>\n",
       "    <tr>\n",
       "      <th>4301</th>\n",
       "      <td>NaN</td>\n",
       "      <td>NaN</td>\n",
       "      <td>NaN</td>\n",
       "    </tr>\n",
       "    <tr>\n",
       "      <th>3237</th>\n",
       "      <td>NaN</td>\n",
       "      <td>NaN</td>\n",
       "      <td>NaN</td>\n",
       "    </tr>\n",
       "  </tbody>\n",
       "</table>\n",
       "</div>"
      ],
      "text/plain": [
       "      call_cost_per_min  Dropped_calls_ratio Usage_Band\n",
       "3836                NaN                  NaN        NaN\n",
       "4301                NaN                  NaN        NaN\n",
       "3237                NaN                  NaN        NaN"
      ]
     },
     "execution_count": 13,
     "metadata": {},
     "output_type": "execute_result"
    }
   ],
   "source": [
    "rows_with_missing_values[[\"call_cost_per_min\", \"Dropped_calls_ratio\", \"Usage_Band\"]]"
   ]
  },
  {
   "cell_type": "markdown",
   "id": "ae34fe4a-202d-47aa-809c-f5eea4d6b80b",
   "metadata": {},
   "source": [
    "Missing values are all in the same 3 rows. Since they're only 3 observations out of 4035, they're imputed using median imputation"
   ]
  },
  {
   "cell_type": "markdown",
   "id": "73663e0a-49b6-421d-92d7-dc3d3a5a5db6",
   "metadata": {},
   "source": [
    "##### Imputing Numerical Columns"
   ]
  },
  {
   "cell_type": "code",
   "execution_count": 14,
   "id": "fe6e50b3-3f54-4c08-ae5c-9b9fd23d46b6",
   "metadata": {},
   "outputs": [],
   "source": [
    "# Assuming 'data' is your dataset with missing values\n",
    "# Create an instance of SimpleImputer with strategy='median'\n",
    "imputer = SimpleImputer(strategy='median')\n",
    "\n",
    "# Fit the imputer on the data\n",
    "imputer.fit(train[[\"call_cost_per_min\", \"Dropped_calls_ratio\"]])\n",
    "\n",
    "# Transform the data by replacing missing values with the median\n",
    "test_clean = imputer.transform(test[[\"call_cost_per_min\", \"Dropped_calls_ratio\"]])\n",
    "train_clean = imputer.transform(train[[\"call_cost_per_min\", \"Dropped_calls_ratio\"]])\n",
    "val_clean = imputer.transform(val[[\"call_cost_per_min\", \"Dropped_calls_ratio\"]])"
   ]
  },
  {
   "cell_type": "code",
   "execution_count": 15,
   "id": "a1cba361-871d-4da2-8025-48a8f741d057",
   "metadata": {},
   "outputs": [],
   "source": [
    "train[\"call_cost_per_min\"] = train_clean[:, 0]\n",
    "test[\"call_cost_per_min\"] = test_clean[:, 0]\n",
    "val[\"call_cost_per_min\"] = val_clean[:, 0]\n",
    "\n",
    "train[\"Dropped_calls_ratio\"] = train_clean[:, 1]\n",
    "test[\"Dropped_calls_ratio\"] = test_clean[:, 1]\n",
    "val[\"Dropped_calls_ratio\"] = val_clean[:, 1]"
   ]
  },
  {
   "cell_type": "markdown",
   "id": "923b3e7d-7ad2-44a0-8380-df50588af98f",
   "metadata": {},
   "source": [
    "##### Imputing Categorical Column"
   ]
  },
  {
   "cell_type": "code",
   "execution_count": 16,
   "id": "a7e6f597-bafe-4a92-bd6b-d6fb93d754d8",
   "metadata": {},
   "outputs": [],
   "source": [
    "# Initialize the imputer with 'most_frequent' strategy\n",
    "imputer = SimpleImputer(strategy='most_frequent')\n",
    "\n",
    "imputer.fit(np.array(train[\"Usage_Band\"]).reshape(-1, 1))\n",
    "\n",
    "train[\"Usage_Band\"] = imputer.transform(np.array(train[\"Usage_Band\"]).reshape(-1, 1))[:, 0]\n",
    "test[\"Usage_Band\"] = imputer.transform(np.array(test[\"Usage_Band\"]).reshape(-1, 1))[:, 0]\n",
    "val[\"Usage_Band\"] = imputer.transform(np.array(val[\"Usage_Band\"]).reshape(-1, 1))[:, 0]"
   ]
  },
  {
   "cell_type": "markdown",
   "id": "a4a54055-c257-421f-9612-29f2041bd0e8",
   "metadata": {},
   "source": [
    "#### Variable Selection"
   ]
  },
  {
   "cell_type": "markdown",
   "id": "4a285161-ac3e-40f4-959a-96a312d13c3a",
   "metadata": {},
   "source": [
    "##### Dropping numerical variables that are useless"
   ]
  },
  {
   "cell_type": "code",
   "execution_count": 17,
   "id": "24e15144-2132-468d-aebc-12e7fad13fee",
   "metadata": {},
   "outputs": [],
   "source": [
    "correlation_matrix = train[train.select_dtypes(include=['number']).columns.tolist()].corr()"
   ]
  },
  {
   "cell_type": "code",
   "execution_count": 18,
   "id": "8a3a7a66-9692-4949-ae66-163a5618bf13",
   "metadata": {},
   "outputs": [],
   "source": [
    "corrtarget = correlation_matrix['target']"
   ]
  },
  {
   "cell_type": "code",
   "execution_count": 19,
   "id": "1c6148e9-6c5e-4a92-af9e-fc9266139bc9",
   "metadata": {},
   "outputs": [],
   "source": [
    "# Make plot for this"
   ]
  },
  {
   "cell_type": "code",
   "execution_count": 20,
   "id": "bda31f47-827a-4d24-8dc5-a53e36457e6f",
   "metadata": {},
   "outputs": [],
   "source": [
    "high_correlation_pairs = []\n",
    "for i in range(len(correlation_matrix.columns)):\n",
    "    for j in range(i+1, len(correlation_matrix.columns)):\n",
    "        if abs(correlation_matrix.iloc[i, j]) > extra_params[\"corr_thresh\"]:\n",
    "            high_correlation_pairs.append((correlation_matrix.columns[i], correlation_matrix.columns[j]))\n"
   ]
  },
  {
   "cell_type": "code",
   "execution_count": 21,
   "id": "b9648355-1bf2-49eb-ac84-2be575dd6f88",
   "metadata": {},
   "outputs": [
    {
     "data": {
      "text/plain": [
       "[('L_O_S', 'Connect_Time'),\n",
       " ('Peak_calls_Sum', 'National_calls'),\n",
       " ('Peak_mins_Sum', 'National mins'),\n",
       " ('Peak_mins_Sum', 'All_calls_mins'),\n",
       " ('International_mins_Sum', 'Total_call_cost'),\n",
       " ('Nat_call_cost_Sum', 'actual call cost'),\n",
       " ('National mins', 'All_calls_mins'),\n",
       " ('All_calls_mins', 'Total_Cost'),\n",
       " ('Total_call_cost', 'Total_Cost'),\n",
       " ('Peak ratio', 'OffPeak ratio')]"
      ]
     },
     "execution_count": 21,
     "metadata": {},
     "output_type": "execute_result"
    }
   ],
   "source": [
    "high_correlation_pairs"
   ]
  },
  {
   "cell_type": "code",
   "execution_count": 22,
   "id": "ae18ac40-73c0-44b7-8c37-bdbf890f18e3",
   "metadata": {},
   "outputs": [],
   "source": [
    "def build_adjacency_list(pairs):\n",
    "    adjacency_list = defaultdict(list)\n",
    "    for u, v in pairs:\n",
    "        adjacency_list[u].append(v)\n",
    "        adjacency_list[v].append(u)\n",
    "    return adjacency_list\n",
    "\n",
    "# Function to perform depth-first search (DFS) traversal to find connected components\n",
    "def dfs(node, adjacency_list, visited, component):\n",
    "    visited.add(node)\n",
    "    component.append(node)\n",
    "    for neighbor in adjacency_list[node]:\n",
    "        if neighbor not in visited:\n",
    "            dfs(neighbor, adjacency_list, visited, component)\n",
    "\n",
    "# Function to find connected components in the graph\n",
    "def find_connected_components(pairs):\n",
    "    adjacency_list = build_adjacency_list(pairs)\n",
    "    visited = set()\n",
    "    connected_components = []\n",
    "    for node in adjacency_list:\n",
    "        if node not in visited:\n",
    "            component = []\n",
    "            dfs(node, adjacency_list, visited, component)\n",
    "            connected_components.append(component)\n",
    "    return connected_components\n",
    "\n",
    "# Find connected groups\n",
    "connected_groups = find_connected_components(high_correlation_pairs)"
   ]
  },
  {
   "cell_type": "code",
   "execution_count": 23,
   "id": "e99d9c8f-7d0e-469e-ae02-2a6597614ecb",
   "metadata": {},
   "outputs": [],
   "source": [
    "def get_variables_to_drop(group, corrtarget):\n",
    "    max_cor = 0\n",
    "    var_max = ''\n",
    "    for var in group:\n",
    "        if abs(corrtarget[var]) > max_cor:\n",
    "            var_max = var\n",
    "    group.remove(var_max)\n",
    "\n",
    "    return group"
   ]
  },
  {
   "cell_type": "code",
   "execution_count": 24,
   "id": "cd8e458f-0ac7-46d5-a383-2f992fce22c6",
   "metadata": {},
   "outputs": [],
   "source": [
    "variables_to_drop = [get_variables_to_drop(group, corrtarget) for group in connected_groups]"
   ]
  },
  {
   "cell_type": "code",
   "execution_count": 25,
   "id": "0d56c236-07ec-4594-999a-fd54e5ce1f9a",
   "metadata": {},
   "outputs": [],
   "source": [
    "drop_vars = [item for sublist in variables_to_drop for item in sublist]"
   ]
  },
  {
   "cell_type": "code",
   "execution_count": 26,
   "id": "a6f371d3-71ad-4ac5-8f0c-4e884e39a150",
   "metadata": {},
   "outputs": [],
   "source": [
    "train = train.drop(columns = drop_vars)"
   ]
  },
  {
   "cell_type": "code",
   "execution_count": 27,
   "id": "53687937-c8eb-44eb-9545-eed5d5a00011",
   "metadata": {},
   "outputs": [],
   "source": [
    "val = val.drop(columns = drop_vars)"
   ]
  },
  {
   "cell_type": "code",
   "execution_count": 28,
   "id": "47e0a8b5-6960-40c0-aa3e-0452f2cf7f8e",
   "metadata": {},
   "outputs": [],
   "source": [
    "test = test.drop(columns = drop_vars)"
   ]
  },
  {
   "cell_type": "markdown",
   "id": "fbb32571-a400-436b-afde-0611cb7d73bb",
   "metadata": {},
   "source": [
    "##### Deleting categorical variables that are useless"
   ]
  },
  {
   "cell_type": "code",
   "execution_count": 29,
   "id": "e271fad2-0b6b-4c11-80df-e7b7ca38bb89",
   "metadata": {},
   "outputs": [
    {
     "name": "stdout",
     "output_type": "stream",
     "text": [
      "target  Gender\n",
      "0       F         1761\n",
      "        M         1682\n",
      "1       M          311\n",
      "        F          281\n",
      "Name: count, dtype: int64\n",
      "target  tariff  \n",
      "0       CAT 200     1533\n",
      "        CAT 100      736\n",
      "        Play 100     503\n",
      "        Play 300     471\n",
      "        CAT 50       200\n",
      "1       CAT 200      269\n",
      "        Play 100     128\n",
      "        CAT 100      110\n",
      "        Play 300      47\n",
      "        CAT 50        38\n",
      "Name: count, dtype: int64\n",
      "target  Handset\n",
      "0       S50        825\n",
      "        BS110      599\n",
      "        S80        574\n",
      "        WC95       526\n",
      "        ASAD170    514\n",
      "        BS210      220\n",
      "        CAS60       90\n",
      "        ASAD90      42\n",
      "        CAS30       37\n",
      "        SOP20       10\n",
      "        SOP10        6\n",
      "1       ASAD90     174\n",
      "        S50        119\n",
      "        CAS30      108\n",
      "        BS110       95\n",
      "        SOP10       28\n",
      "        SOP20       24\n",
      "        S80         20\n",
      "        ASAD170     10\n",
      "        BS210        8\n",
      "        WC95         6\n",
      "Name: count, dtype: int64\n",
      "target  Usage_Band\n",
      "0       Med           1974\n",
      "        MedHigh        866\n",
      "        MedLow         310\n",
      "        High           246\n",
      "        Low             47\n",
      "1       Med            261\n",
      "        MedHigh        148\n",
      "        MedLow         120\n",
      "        High            42\n",
      "        Low             21\n",
      "Name: count, dtype: int64\n",
      "target  Tariff_OK    \n",
      "0       OK               3436\n",
      "        High CAT 100        5\n",
      "        High CAT 50         1\n",
      "        High Play 100       1\n",
      "1       OK                570\n",
      "        High CAT 100       16\n",
      "        High CAT 50         4\n",
      "        High Play 100       2\n",
      "Name: count, dtype: int64\n",
      "target  high Dropped calls\n",
      "0       F                     3426\n",
      "        T                       17\n",
      "1       F                      507\n",
      "        T                       85\n",
      "Name: count, dtype: int64\n"
     ]
    }
   ],
   "source": [
    "for variable in list(train.describe(include = 'object').columns):\n",
    "    print(train.groupby('target')[variable].value_counts())"
   ]
  },
  {
   "cell_type": "code",
   "execution_count": 30,
   "id": "fad58b1b-45b6-46b9-a756-461b30c3013f",
   "metadata": {},
   "outputs": [],
   "source": [
    "#Make plots for this"
   ]
  },
  {
   "cell_type": "markdown",
   "id": "a7cc6288-b781-41c1-9bc6-d102c26a95a4",
   "metadata": {},
   "source": [
    "UsageBand, Tariff seem useless\n",
    "Most useful inferences: High Dropped Calls seems a good indicator for whether someone will churn or not, ratio of Trues for churners is much higher. Tariff_Ok's High Cat 100 for churners is much higher than for non churners, would be good to add numerical encoding. Same for handset, numerical encoding would be nice. "
   ]
  },
  {
   "cell_type": "code",
   "execution_count": 31,
   "id": "9fba3d73-6cd5-4153-9a45-d87f63bae2f9",
   "metadata": {},
   "outputs": [],
   "source": [
    "if extra_params[\"drop_cat_vars\"] == 1:\n",
    "    train = train.drop(columns = [\"No Usage\", \"Usage_Band\", \"tariff\"])\n",
    "    test = test.drop(columns = [\"No Usage\", \"Usage_Band\", \"tariff\"])\n",
    "    val = val.drop(columns = [\"No Usage\", \"Usage_Band\", \"tariff\"])"
   ]
  },
  {
   "cell_type": "markdown",
   "id": "35468cfa-7ceb-4bcc-b5d6-b8c54d7507e3",
   "metadata": {},
   "source": [
    "Outliers are not dealth with (they are useful in our detection, the higher the costs the bigger the probability of churning?)"
   ]
  },
  {
   "cell_type": "markdown",
   "id": "30ab7516-4fa6-4688-b445-94f42594758a",
   "metadata": {},
   "source": [
    "#### Variable Transformation"
   ]
  },
  {
   "cell_type": "markdown",
   "id": "6b73c81b-ddc7-4280-84c5-47793d6c4031",
   "metadata": {},
   "source": [
    "##### Numerical Variables"
   ]
  },
  {
   "cell_type": "code",
   "execution_count": 32,
   "id": "254554dc-53d7-4f53-807b-ffe18e153762",
   "metadata": {},
   "outputs": [],
   "source": [
    "test['target'] = 0"
   ]
  },
  {
   "cell_type": "code",
   "execution_count": 33,
   "id": "81c7c863-7b74-4977-9371-296cccdcf51f",
   "metadata": {},
   "outputs": [
    {
     "data": {
      "text/html": [
       "<div>\n",
       "<style scoped>\n",
       "    .dataframe tbody tr th:only-of-type {\n",
       "        vertical-align: middle;\n",
       "    }\n",
       "\n",
       "    .dataframe tbody tr th {\n",
       "        vertical-align: top;\n",
       "    }\n",
       "\n",
       "    .dataframe thead th {\n",
       "        text-align: right;\n",
       "    }\n",
       "</style>\n",
       "<table border=\"1\" class=\"dataframe\">\n",
       "  <thead>\n",
       "    <tr style=\"text-align: right;\">\n",
       "      <th></th>\n",
       "      <th>Gender</th>\n",
       "      <th>Age</th>\n",
       "      <th>Dropped_Calls</th>\n",
       "      <th>tariff</th>\n",
       "      <th>Handset</th>\n",
       "      <th>OffPeak_calls_Sum</th>\n",
       "      <th>OffPeak_mins_Sum</th>\n",
       "      <th>Weekend_calls_Sum</th>\n",
       "      <th>Weekend_mins_Sum</th>\n",
       "      <th>International_mins_Sum</th>\n",
       "      <th>...</th>\n",
       "      <th>call_cost_per_min</th>\n",
       "      <th>actual call cost</th>\n",
       "      <th>Tariff_OK</th>\n",
       "      <th>average cost min</th>\n",
       "      <th>OffPeak ratio</th>\n",
       "      <th>Weekend ratio</th>\n",
       "      <th>Nat-InterNat Ratio</th>\n",
       "      <th>high Dropped calls</th>\n",
       "      <th>Connect_Time</th>\n",
       "      <th>target</th>\n",
       "    </tr>\n",
       "  </thead>\n",
       "  <tbody>\n",
       "    <tr>\n",
       "      <th>0</th>\n",
       "      <td>F</td>\n",
       "      <td>20.0</td>\n",
       "      <td>3.0</td>\n",
       "      <td>CAT 200</td>\n",
       "      <td>WC95</td>\n",
       "      <td>110.0</td>\n",
       "      <td>189.982227</td>\n",
       "      <td>8.0</td>\n",
       "      <td>5.017969</td>\n",
       "      <td>25.872662</td>\n",
       "      <td>...</td>\n",
       "      <td>8.933287</td>\n",
       "      <td>9.409262</td>\n",
       "      <td>OK</td>\n",
       "      <td>0.116924</td>\n",
       "      <td>0.173365</td>\n",
       "      <td>0.009823</td>\n",
       "      <td>0.020349</td>\n",
       "      <td>F</td>\n",
       "      <td>1314</td>\n",
       "      <td>0</td>\n",
       "    </tr>\n",
       "    <tr>\n",
       "      <th>1</th>\n",
       "      <td>F</td>\n",
       "      <td>54.0</td>\n",
       "      <td>0.0</td>\n",
       "      <td>Play 300</td>\n",
       "      <td>BS110</td>\n",
       "      <td>93.0</td>\n",
       "      <td>551.817423</td>\n",
       "      <td>8.0</td>\n",
       "      <td>17.593417</td>\n",
       "      <td>138.267040</td>\n",
       "      <td>...</td>\n",
       "      <td>11.931697</td>\n",
       "      <td>2.739423</td>\n",
       "      <td>OK</td>\n",
       "      <td>0.120457</td>\n",
       "      <td>0.532898</td>\n",
       "      <td>0.022391</td>\n",
       "      <td>0.124480</td>\n",
       "      <td>F</td>\n",
       "      <td>667</td>\n",
       "      <td>0</td>\n",
       "    </tr>\n",
       "    <tr>\n",
       "      <th>2</th>\n",
       "      <td>F</td>\n",
       "      <td>28.0</td>\n",
       "      <td>0.0</td>\n",
       "      <td>CAT 200</td>\n",
       "      <td>ASAD170</td>\n",
       "      <td>90.0</td>\n",
       "      <td>152.731006</td>\n",
       "      <td>10.0</td>\n",
       "      <td>23.907633</td>\n",
       "      <td>492.202970</td>\n",
       "      <td>...</td>\n",
       "      <td>9.560903</td>\n",
       "      <td>95.406158</td>\n",
       "      <td>OK</td>\n",
       "      <td>0.149435</td>\n",
       "      <td>0.034434</td>\n",
       "      <td>0.006660</td>\n",
       "      <td>0.225763</td>\n",
       "      <td>F</td>\n",
       "      <td>443</td>\n",
       "      <td>0</td>\n",
       "    </tr>\n",
       "    <tr>\n",
       "      <th>3</th>\n",
       "      <td>F</td>\n",
       "      <td>26.0</td>\n",
       "      <td>5.0</td>\n",
       "      <td>CAT 200</td>\n",
       "      <td>WC95</td>\n",
       "      <td>126.0</td>\n",
       "      <td>358.760706</td>\n",
       "      <td>0.0</td>\n",
       "      <td>3.024655</td>\n",
       "      <td>174.998124</td>\n",
       "      <td>...</td>\n",
       "      <td>8.398145</td>\n",
       "      <td>14.464628</td>\n",
       "      <td>OK</td>\n",
       "      <td>0.137372</td>\n",
       "      <td>0.263256</td>\n",
       "      <td>0.005870</td>\n",
       "      <td>0.108872</td>\n",
       "      <td>F</td>\n",
       "      <td>503</td>\n",
       "      <td>0</td>\n",
       "    </tr>\n",
       "    <tr>\n",
       "      <th>4</th>\n",
       "      <td>F</td>\n",
       "      <td>34.0</td>\n",
       "      <td>0.0</td>\n",
       "      <td>CAT 100</td>\n",
       "      <td>WC95</td>\n",
       "      <td>73.0</td>\n",
       "      <td>141.180280</td>\n",
       "      <td>11.0</td>\n",
       "      <td>47.034972</td>\n",
       "      <td>80.927142</td>\n",
       "      <td>...</td>\n",
       "      <td>12.766109</td>\n",
       "      <td>34.757126</td>\n",
       "      <td>OK</td>\n",
       "      <td>0.180704</td>\n",
       "      <td>0.166995</td>\n",
       "      <td>0.056390</td>\n",
       "      <td>0.090896</td>\n",
       "      <td>F</td>\n",
       "      <td>426</td>\n",
       "      <td>0</td>\n",
       "    </tr>\n",
       "    <tr>\n",
       "      <th>...</th>\n",
       "      <td>...</td>\n",
       "      <td>...</td>\n",
       "      <td>...</td>\n",
       "      <td>...</td>\n",
       "      <td>...</td>\n",
       "      <td>...</td>\n",
       "      <td>...</td>\n",
       "      <td>...</td>\n",
       "      <td>...</td>\n",
       "      <td>...</td>\n",
       "      <td>...</td>\n",
       "      <td>...</td>\n",
       "      <td>...</td>\n",
       "      <td>...</td>\n",
       "      <td>...</td>\n",
       "      <td>...</td>\n",
       "      <td>...</td>\n",
       "      <td>...</td>\n",
       "      <td>...</td>\n",
       "      <td>...</td>\n",
       "      <td>...</td>\n",
       "    </tr>\n",
       "    <tr>\n",
       "      <th>1677</th>\n",
       "      <td>F</td>\n",
       "      <td>32.0</td>\n",
       "      <td>0.0</td>\n",
       "      <td>CAT 200</td>\n",
       "      <td>BS110</td>\n",
       "      <td>8.0</td>\n",
       "      <td>42.952890</td>\n",
       "      <td>45.0</td>\n",
       "      <td>105.774031</td>\n",
       "      <td>86.262452</td>\n",
       "      <td>...</td>\n",
       "      <td>9.588439</td>\n",
       "      <td>35.396282</td>\n",
       "      <td>OK</td>\n",
       "      <td>0.122342</td>\n",
       "      <td>0.012611</td>\n",
       "      <td>0.070297</td>\n",
       "      <td>0.035339</td>\n",
       "      <td>F</td>\n",
       "      <td>921</td>\n",
       "      <td>0</td>\n",
       "    </tr>\n",
       "    <tr>\n",
       "      <th>1678</th>\n",
       "      <td>M</td>\n",
       "      <td>19.0</td>\n",
       "      <td>0.0</td>\n",
       "      <td>CAT 100</td>\n",
       "      <td>BS110</td>\n",
       "      <td>-1.0</td>\n",
       "      <td>73.643988</td>\n",
       "      <td>2.0</td>\n",
       "      <td>28.751955</td>\n",
       "      <td>56.083237</td>\n",
       "      <td>...</td>\n",
       "      <td>13.794174</td>\n",
       "      <td>30.518649</td>\n",
       "      <td>OK</td>\n",
       "      <td>0.163502</td>\n",
       "      <td>0.052157</td>\n",
       "      <td>0.041489</td>\n",
       "      <td>0.079988</td>\n",
       "      <td>F</td>\n",
       "      <td>366</td>\n",
       "      <td>0</td>\n",
       "    </tr>\n",
       "    <tr>\n",
       "      <th>1679</th>\n",
       "      <td>F</td>\n",
       "      <td>34.0</td>\n",
       "      <td>0.0</td>\n",
       "      <td>CAT 200</td>\n",
       "      <td>S50</td>\n",
       "      <td>21.0</td>\n",
       "      <td>278.414345</td>\n",
       "      <td>2.0</td>\n",
       "      <td>34.029118</td>\n",
       "      <td>188.224017</td>\n",
       "      <td>...</td>\n",
       "      <td>9.031387</td>\n",
       "      <td>96.373049</td>\n",
       "      <td>OK</td>\n",
       "      <td>0.127485</td>\n",
       "      <td>0.106429</td>\n",
       "      <td>0.011459</td>\n",
       "      <td>0.098248</td>\n",
       "      <td>F</td>\n",
       "      <td>1373</td>\n",
       "      <td>0</td>\n",
       "    </tr>\n",
       "    <tr>\n",
       "      <th>1680</th>\n",
       "      <td>M</td>\n",
       "      <td>21.0</td>\n",
       "      <td>2.0</td>\n",
       "      <td>CAT 100</td>\n",
       "      <td>BS110</td>\n",
       "      <td>76.0</td>\n",
       "      <td>196.742943</td>\n",
       "      <td>-1.0</td>\n",
       "      <td>18.472483</td>\n",
       "      <td>137.376495</td>\n",
       "      <td>...</td>\n",
       "      <td>11.898371</td>\n",
       "      <td>-0.223523</td>\n",
       "      <td>OK</td>\n",
       "      <td>0.205830</td>\n",
       "      <td>0.358159</td>\n",
       "      <td>0.017720</td>\n",
       "      <td>0.256554</td>\n",
       "      <td>F</td>\n",
       "      <td>1045</td>\n",
       "      <td>0</td>\n",
       "    </tr>\n",
       "    <tr>\n",
       "      <th>1681</th>\n",
       "      <td>F</td>\n",
       "      <td>15.0</td>\n",
       "      <td>2.0</td>\n",
       "      <td>Play 300</td>\n",
       "      <td>WC95</td>\n",
       "      <td>216.0</td>\n",
       "      <td>570.140734</td>\n",
       "      <td>29.0</td>\n",
       "      <td>64.926550</td>\n",
       "      <td>-1.832557</td>\n",
       "      <td>...</td>\n",
       "      <td>7.678638</td>\n",
       "      <td>-0.606908</td>\n",
       "      <td>OK</td>\n",
       "      <td>0.110151</td>\n",
       "      <td>0.718294</td>\n",
       "      <td>0.069951</td>\n",
       "      <td>0.011028</td>\n",
       "      <td>F</td>\n",
       "      <td>1164</td>\n",
       "      <td>0</td>\n",
       "    </tr>\n",
       "  </tbody>\n",
       "</table>\n",
       "<p>1682 rows × 28 columns</p>\n",
       "</div>"
      ],
      "text/plain": [
       "     Gender   Age  Dropped_Calls    tariff  Handset  OffPeak_calls_Sum  \\\n",
       "0         F  20.0            3.0   CAT 200     WC95              110.0   \n",
       "1         F  54.0            0.0  Play 300    BS110               93.0   \n",
       "2         F  28.0            0.0   CAT 200  ASAD170               90.0   \n",
       "3         F  26.0            5.0   CAT 200     WC95              126.0   \n",
       "4         F  34.0            0.0   CAT 100     WC95               73.0   \n",
       "...     ...   ...            ...       ...      ...                ...   \n",
       "1677      F  32.0            0.0   CAT 200    BS110                8.0   \n",
       "1678      M  19.0            0.0   CAT 100    BS110               -1.0   \n",
       "1679      F  34.0            0.0   CAT 200      S50               21.0   \n",
       "1680      M  21.0            2.0   CAT 100    BS110               76.0   \n",
       "1681      F  15.0            2.0  Play 300     WC95              216.0   \n",
       "\n",
       "      OffPeak_mins_Sum  Weekend_calls_Sum  Weekend_mins_Sum  \\\n",
       "0           189.982227                8.0          5.017969   \n",
       "1           551.817423                8.0         17.593417   \n",
       "2           152.731006               10.0         23.907633   \n",
       "3           358.760706                0.0          3.024655   \n",
       "4           141.180280               11.0         47.034972   \n",
       "...                ...                ...               ...   \n",
       "1677         42.952890               45.0        105.774031   \n",
       "1678         73.643988                2.0         28.751955   \n",
       "1679        278.414345                2.0         34.029118   \n",
       "1680        196.742943               -1.0         18.472483   \n",
       "1681        570.140734               29.0         64.926550   \n",
       "\n",
       "      International_mins_Sum  ...  call_cost_per_min  actual call cost  \\\n",
       "0                  25.872662  ...           8.933287          9.409262   \n",
       "1                 138.267040  ...          11.931697          2.739423   \n",
       "2                 492.202970  ...           9.560903         95.406158   \n",
       "3                 174.998124  ...           8.398145         14.464628   \n",
       "4                  80.927142  ...          12.766109         34.757126   \n",
       "...                      ...  ...                ...               ...   \n",
       "1677               86.262452  ...           9.588439         35.396282   \n",
       "1678               56.083237  ...          13.794174         30.518649   \n",
       "1679              188.224017  ...           9.031387         96.373049   \n",
       "1680              137.376495  ...          11.898371         -0.223523   \n",
       "1681               -1.832557  ...           7.678638         -0.606908   \n",
       "\n",
       "      Tariff_OK  average cost min  OffPeak ratio  Weekend ratio  \\\n",
       "0            OK          0.116924       0.173365       0.009823   \n",
       "1            OK          0.120457       0.532898       0.022391   \n",
       "2            OK          0.149435       0.034434       0.006660   \n",
       "3            OK          0.137372       0.263256       0.005870   \n",
       "4            OK          0.180704       0.166995       0.056390   \n",
       "...         ...               ...            ...            ...   \n",
       "1677         OK          0.122342       0.012611       0.070297   \n",
       "1678         OK          0.163502       0.052157       0.041489   \n",
       "1679         OK          0.127485       0.106429       0.011459   \n",
       "1680         OK          0.205830       0.358159       0.017720   \n",
       "1681         OK          0.110151       0.718294       0.069951   \n",
       "\n",
       "     Nat-InterNat Ratio  high Dropped calls  Connect_Time  target  \n",
       "0              0.020349                   F          1314       0  \n",
       "1              0.124480                   F           667       0  \n",
       "2              0.225763                   F           443       0  \n",
       "3              0.108872                   F           503       0  \n",
       "4              0.090896                   F           426       0  \n",
       "...                 ...                 ...           ...     ...  \n",
       "1677           0.035339                   F           921       0  \n",
       "1678           0.079988                   F           366       0  \n",
       "1679           0.098248                   F          1373       0  \n",
       "1680           0.256554                   F          1045       0  \n",
       "1681           0.011028                   F          1164       0  \n",
       "\n",
       "[1682 rows x 28 columns]"
      ]
     },
     "execution_count": 33,
     "metadata": {},
     "output_type": "execute_result"
    }
   ],
   "source": [
    "test"
   ]
  },
  {
   "cell_type": "code",
   "execution_count": 34,
   "id": "363abba2-45cf-4356-9f95-30325c6f161a",
   "metadata": {},
   "outputs": [],
   "source": [
    "# List of numerical variable names\n",
    "numerical_features = train.select_dtypes(include=['number']).columns.tolist()\n",
    "\n",
    "# List of categorical variable names (replace with actual categorical variable names)\n",
    "categorical_features = train.select_dtypes(exclude=['number']).columns.tolist()\n",
    "\n",
    "# Define the transformers\n",
    "transformers = [\n",
    "    ('num', MinMaxScaler(), numerical_features)\n",
    "]\n",
    "\n",
    "# Create the column transformer\n",
    "preprocessor = ColumnTransformer(transformers, remainder='passthrough')\n",
    "\n",
    "# Apply the column transformer to the data\n",
    "transformed_train = preprocessor.fit_transform(train)\n",
    "transformed_val = preprocessor.transform(val)\n",
    "transformed_test = preprocessor.transform(test)\n",
    "\n",
    "\n",
    "# Convert the transformed data back to DataFrame\n",
    "transformed_train = pd.DataFrame(transformed_train, columns=numerical_features + categorical_features)\n",
    "transformed_test = pd.DataFrame(transformed_test, columns=numerical_features + categorical_features)\n",
    "transformed_val = pd.DataFrame(transformed_val, columns=numerical_features + categorical_features)\n",
    "\n",
    "\n",
    "\n",
    "# Only the numerical variables will be scaled to the range [0, 1]"
   ]
  },
  {
   "cell_type": "markdown",
   "id": "e6589dba-6067-4f1d-8333-5f28503ef36b",
   "metadata": {},
   "source": [
    "MinMaxScaling (0, 1)"
   ]
  },
  {
   "cell_type": "markdown",
   "id": "d7350b4c-91ef-40fb-8d10-776545fd782c",
   "metadata": {},
   "source": [
    "MinMaxScaling (-1, 1)"
   ]
  },
  {
   "cell_type": "markdown",
   "id": "4fbf6440-df4b-42ae-857b-dda52767f81c",
   "metadata": {},
   "source": [
    "Normalization + MinMaxScaling"
   ]
  },
  {
   "cell_type": "markdown",
   "id": "8d523173-e3be-4e29-be1c-a5695fb3d6f5",
   "metadata": {},
   "source": [
    "##### Categorical Variables"
   ]
  },
  {
   "cell_type": "markdown",
   "id": "b7ad6260-2d67-4673-b58c-1571fd3d3017",
   "metadata": {},
   "source": [
    "One-Hot Encoding"
   ]
  },
  {
   "cell_type": "code",
   "execution_count": 35,
   "id": "18ff7fc3-b720-4fb0-8d77-7bb0f5df4fd6",
   "metadata": {},
   "outputs": [
    {
     "name": "stdout",
     "output_type": "stream",
     "text": [
      "target  Gender\n",
      "0       F         1761\n",
      "        M         1682\n",
      "1       M          311\n",
      "        F          281\n",
      "Name: count, dtype: int64\n",
      "target  tariff  \n",
      "0       CAT 200     1533\n",
      "        CAT 100      736\n",
      "        Play 100     503\n",
      "        Play 300     471\n",
      "        CAT 50       200\n",
      "1       CAT 200      269\n",
      "        Play 100     128\n",
      "        CAT 100      110\n",
      "        Play 300      47\n",
      "        CAT 50        38\n",
      "Name: count, dtype: int64\n",
      "target  Handset\n",
      "0       S50        825\n",
      "        BS110      599\n",
      "        S80        574\n",
      "        WC95       526\n",
      "        ASAD170    514\n",
      "        BS210      220\n",
      "        CAS60       90\n",
      "        ASAD90      42\n",
      "        CAS30       37\n",
      "        SOP20       10\n",
      "        SOP10        6\n",
      "1       ASAD90     174\n",
      "        S50        119\n",
      "        CAS30      108\n",
      "        BS110       95\n",
      "        SOP10       28\n",
      "        SOP20       24\n",
      "        S80         20\n",
      "        ASAD170     10\n",
      "        BS210        8\n",
      "        WC95         6\n",
      "Name: count, dtype: int64\n",
      "target  Usage_Band\n",
      "0       Med           1974\n",
      "        MedHigh        866\n",
      "        MedLow         310\n",
      "        High           246\n",
      "        Low             47\n",
      "1       Med            261\n",
      "        MedHigh        148\n",
      "        MedLow         120\n",
      "        High            42\n",
      "        Low             21\n",
      "Name: count, dtype: int64\n",
      "target  Tariff_OK    \n",
      "0       OK               3436\n",
      "        High CAT 100        5\n",
      "        High CAT 50         1\n",
      "        High Play 100       1\n",
      "1       OK                570\n",
      "        High CAT 100       16\n",
      "        High CAT 50         4\n",
      "        High Play 100       2\n",
      "Name: count, dtype: int64\n",
      "target  high Dropped calls\n",
      "0       F                     3426\n",
      "        T                       17\n",
      "1       F                      507\n",
      "        T                       85\n",
      "Name: count, dtype: int64\n"
     ]
    }
   ],
   "source": [
    "for variable in list(train.describe(include = 'object').columns):\n",
    "    print(train.groupby('target')[variable].value_counts())"
   ]
  },
  {
   "cell_type": "code",
   "execution_count": 36,
   "id": "76db170b-67e8-468d-9fee-36d912239c7a",
   "metadata": {},
   "outputs": [],
   "source": [
    "# Encode binary variables using map\n",
    "binary_mapping1 = {'M': 1, 'F': 0}\n",
    "binary_mapping2 = {'T': 1, 'F': 0}\n",
    "\n",
    "transformed_train['high Dropped calls'] = transformed_train['high Dropped calls'].map(binary_mapping2)\n",
    "transformed_train['Gender'] = transformed_train['Gender'].map(binary_mapping1)\n",
    "transformed_test['high Dropped calls'] = transformed_test['high Dropped calls'].map(binary_mapping2)\n",
    "transformed_test['Gender'] = transformed_test['Gender'].map(binary_mapping1)\n",
    "transformed_val['high Dropped calls'] = transformed_val['high Dropped calls'].map(binary_mapping2)\n",
    "transformed_val['Gender'] = transformed_val['Gender'].map(binary_mapping1)\n",
    "\n",
    "\n",
    "# Filter and encode categorical variables\n",
    "# For categorical_1, keep only 'High CAT 100', encode the rest as 'Other'\n",
    "transformed_train['Tariff_OK'] = transformed_train['Tariff_OK'].apply(lambda x: 1 if x == 'High CAT 100' else 0)\n",
    "transformed_test['Tariff_OK'] = transformed_test['Tariff_OK'].apply(lambda x: 1 if x == 'High CAT 100' else 0)\n",
    "transformed_val['Tariff_OK'] = transformed_val['Tariff_OK'].apply(lambda x: 1 if x == 'High CAT 100' else 0)\n",
    "\n",
    "# Encode categorical_2 using one-hot encoding\n",
    "encoded_train = pd.get_dummies(transformed_train, columns=['Handset', \"tariff\", \"Usage_Band\"], dtype = int)\n",
    "encoded_test = pd.get_dummies(transformed_test, columns=['Handset', \"tariff\", \"Usage_Band\"], dtype = int)\n",
    "encoded_val = pd.get_dummies(transformed_val, columns=['Handset', \"tariff\", \"Usage_Band\"], dtype = int)"
   ]
  },
  {
   "cell_type": "code",
   "execution_count": 37,
   "id": "7225146a-fccd-4e8f-95dc-4098b9f2e3cf",
   "metadata": {},
   "outputs": [],
   "source": [
    "encoded_val['target'] = encoded_val['target'].astype('category')"
   ]
  },
  {
   "cell_type": "code",
   "execution_count": 38,
   "id": "766ae81b-f5f7-49f5-bccc-df5c9a35d261",
   "metadata": {},
   "outputs": [],
   "source": [
    "X_train = encoded_train.drop(columns = \"target\")\n",
    "y_train = encoded_train[\"target\"]"
   ]
  },
  {
   "cell_type": "code",
   "execution_count": 39,
   "id": "75f1795a-9504-421b-83af-5a9a31f13bd9",
   "metadata": {},
   "outputs": [],
   "source": [
    "X_val = encoded_val.drop(columns = \"target\")\n",
    "y_val = encoded_val[\"target\"]"
   ]
  },
  {
   "cell_type": "code",
   "execution_count": 40,
   "id": "ebc8b4e8-0427-44ae-9cf2-128ed95da23e",
   "metadata": {},
   "outputs": [],
   "source": [
    "X_test = encoded_test.drop(columns = \"target\")"
   ]
  },
  {
   "cell_type": "code",
   "execution_count": 41,
   "id": "65665730-1bae-4211-aaf2-2f351d8994e8",
   "metadata": {},
   "outputs": [],
   "source": [
    "# Initialize LabelEncoder\n",
    "label_encoder = LabelEncoder()\n",
    "\n",
    "# Fit and transform the categorical labels\n",
    "y_train = label_encoder.fit_transform(y_train)\n",
    "y_val = label_encoder.transform(y_val)"
   ]
  },
  {
   "cell_type": "markdown",
   "id": "b4ff4f70-807a-4801-986f-4df366732d9f",
   "metadata": {},
   "source": [
    "#### Oversampling / Undersampling"
   ]
  },
  {
   "cell_type": "markdown",
   "id": "b586666f-31f3-40de-8adb-54b62af3727d",
   "metadata": {},
   "source": [
    "##### Oversampling"
   ]
  },
  {
   "cell_type": "code",
   "execution_count": 42,
   "id": "4300c049-861f-4c19-8215-39e71143a5ad",
   "metadata": {},
   "outputs": [
    {
     "name": "stdout",
     "output_type": "stream",
     "text": [
      "y_train data type: <class 'numpy.ndarray'>\n"
     ]
    }
   ],
   "source": [
    "if extra_params.get(\"oversampling\") == 1:\n",
    "    if X_train is not None and y_train is not None:\n",
    "        # Ensure y_train is an array of integers\n",
    "        print(\"y_train data type:\", type(y_train))\n",
    "\n",
    "        # Apply SMOTE for oversampling\n",
    "        smote = SMOTE(random_state=42)\n",
    "        X_resampled, y_resampled = smote.fit_resample(X_train, y_train)\n",
    "\n",
    "        # Update X_train and y_train with resampled data\n",
    "        X_train = X_resampled\n",
    "        y_train = y_resampled\n",
    "    else:\n",
    "        print(\"X_train or y_train is None. Please check the input data.\")\n",
    "else:\n",
    "    print(\"Oversampling is disabled.\")"
   ]
  },
  {
   "cell_type": "markdown",
   "id": "d8377f67-c60d-4c39-82db-cd94e51afb80",
   "metadata": {},
   "source": [
    "##### Undersampling"
   ]
  },
  {
   "cell_type": "code",
   "execution_count": 43,
   "id": "a1da7f3c-b845-4ee9-854c-33ebc55bf7c4",
   "metadata": {},
   "outputs": [],
   "source": [
    "# Apply RandomUnderSampler for undersampling\n",
    "if extra_params[\"undersampling\"] == 1:\n",
    "    rus = RandomUnderSampler(random_state=42)\n",
    "    X_resampled, y_resampled = rus.fit_resample(X, y)\n",
    "\n",
    "    X_train = X_resampled\n",
    "    y_train = y_resampled"
   ]
  },
  {
   "cell_type": "markdown",
   "id": "26506f54-2398-4553-83a9-e87d065f78eb",
   "metadata": {},
   "source": [
    "### Creation of Models and Results"
   ]
  },
  {
   "cell_type": "code",
   "execution_count": 44,
   "id": "52e66609-081c-485a-8749-249fd1bb0037",
   "metadata": {},
   "outputs": [
    {
     "data": {
      "text/html": [
       "<style>#sk-container-id-1 {color: black;background-color: white;}#sk-container-id-1 pre{padding: 0;}#sk-container-id-1 div.sk-toggleable {background-color: white;}#sk-container-id-1 label.sk-toggleable__label {cursor: pointer;display: block;width: 100%;margin-bottom: 0;padding: 0.3em;box-sizing: border-box;text-align: center;}#sk-container-id-1 label.sk-toggleable__label-arrow:before {content: \"▸\";float: left;margin-right: 0.25em;color: #696969;}#sk-container-id-1 label.sk-toggleable__label-arrow:hover:before {color: black;}#sk-container-id-1 div.sk-estimator:hover label.sk-toggleable__label-arrow:before {color: black;}#sk-container-id-1 div.sk-toggleable__content {max-height: 0;max-width: 0;overflow: hidden;text-align: left;background-color: #f0f8ff;}#sk-container-id-1 div.sk-toggleable__content pre {margin: 0.2em;color: black;border-radius: 0.25em;background-color: #f0f8ff;}#sk-container-id-1 input.sk-toggleable__control:checked~div.sk-toggleable__content {max-height: 200px;max-width: 100%;overflow: auto;}#sk-container-id-1 input.sk-toggleable__control:checked~label.sk-toggleable__label-arrow:before {content: \"▾\";}#sk-container-id-1 div.sk-estimator input.sk-toggleable__control:checked~label.sk-toggleable__label {background-color: #d4ebff;}#sk-container-id-1 div.sk-label input.sk-toggleable__control:checked~label.sk-toggleable__label {background-color: #d4ebff;}#sk-container-id-1 input.sk-hidden--visually {border: 0;clip: rect(1px 1px 1px 1px);clip: rect(1px, 1px, 1px, 1px);height: 1px;margin: -1px;overflow: hidden;padding: 0;position: absolute;width: 1px;}#sk-container-id-1 div.sk-estimator {font-family: monospace;background-color: #f0f8ff;border: 1px dotted black;border-radius: 0.25em;box-sizing: border-box;margin-bottom: 0.5em;}#sk-container-id-1 div.sk-estimator:hover {background-color: #d4ebff;}#sk-container-id-1 div.sk-parallel-item::after {content: \"\";width: 100%;border-bottom: 1px solid gray;flex-grow: 1;}#sk-container-id-1 div.sk-label:hover label.sk-toggleable__label {background-color: #d4ebff;}#sk-container-id-1 div.sk-serial::before {content: \"\";position: absolute;border-left: 1px solid gray;box-sizing: border-box;top: 0;bottom: 0;left: 50%;z-index: 0;}#sk-container-id-1 div.sk-serial {display: flex;flex-direction: column;align-items: center;background-color: white;padding-right: 0.2em;padding-left: 0.2em;position: relative;}#sk-container-id-1 div.sk-item {position: relative;z-index: 1;}#sk-container-id-1 div.sk-parallel {display: flex;align-items: stretch;justify-content: center;background-color: white;position: relative;}#sk-container-id-1 div.sk-item::before, #sk-container-id-1 div.sk-parallel-item::before {content: \"\";position: absolute;border-left: 1px solid gray;box-sizing: border-box;top: 0;bottom: 0;left: 50%;z-index: -1;}#sk-container-id-1 div.sk-parallel-item {display: flex;flex-direction: column;z-index: 1;position: relative;background-color: white;}#sk-container-id-1 div.sk-parallel-item:first-child::after {align-self: flex-end;width: 50%;}#sk-container-id-1 div.sk-parallel-item:last-child::after {align-self: flex-start;width: 50%;}#sk-container-id-1 div.sk-parallel-item:only-child::after {width: 0;}#sk-container-id-1 div.sk-dashed-wrapped {border: 1px dashed gray;margin: 0 0.4em 0.5em 0.4em;box-sizing: border-box;padding-bottom: 0.4em;background-color: white;}#sk-container-id-1 div.sk-label label {font-family: monospace;font-weight: bold;display: inline-block;line-height: 1.2em;}#sk-container-id-1 div.sk-label-container {text-align: center;}#sk-container-id-1 div.sk-container {/* jupyter's `normalize.less` sets `[hidden] { display: none; }` but bootstrap.min.css set `[hidden] { display: none !important; }` so we also need the `!important` here to be able to override the default hidden behavior on the sphinx rendered scikit-learn.org. See: https://github.com/scikit-learn/scikit-learn/issues/21755 */display: inline-block !important;position: relative;}#sk-container-id-1 div.sk-text-repr-fallback {display: none;}</style><div id=\"sk-container-id-1\" class=\"sk-top-container\"><div class=\"sk-text-repr-fallback\"><pre>RandomForestClassifier(max_depth=20, random_state=0)</pre><b>In a Jupyter environment, please rerun this cell to show the HTML representation or trust the notebook. <br />On GitHub, the HTML representation is unable to render, please try loading this page with nbviewer.org.</b></div><div class=\"sk-container\" hidden><div class=\"sk-item\"><div class=\"sk-estimator sk-toggleable\"><input class=\"sk-toggleable__control sk-hidden--visually\" id=\"sk-estimator-id-1\" type=\"checkbox\" checked><label for=\"sk-estimator-id-1\" class=\"sk-toggleable__label sk-toggleable__label-arrow\">RandomForestClassifier</label><div class=\"sk-toggleable__content\"><pre>RandomForestClassifier(max_depth=20, random_state=0)</pre></div></div></div></div></div>"
      ],
      "text/plain": [
       "RandomForestClassifier(max_depth=20, random_state=0)"
      ]
     },
     "execution_count": 44,
     "metadata": {},
     "output_type": "execute_result"
    }
   ],
   "source": [
    "clf = RandomForestClassifier(max_depth=20, random_state=0)\n",
    "clf.fit(X_train, y_train)"
   ]
  },
  {
   "cell_type": "markdown",
   "id": "8c1d6e3b-18ca-483f-85a4-046feb1e3c23",
   "metadata": {},
   "source": [
    "#### Validation Metrics"
   ]
  },
  {
   "cell_type": "code",
   "execution_count": 45,
   "id": "7e83107b-068a-464f-b26f-1de7fb881093",
   "metadata": {},
   "outputs": [
    {
     "data": {
      "text/plain": [
       "0.8553730682304074"
      ]
     },
     "execution_count": 45,
     "metadata": {},
     "output_type": "execute_result"
    }
   ],
   "source": [
    "#Calculate AUC Score for Validation\n",
    "y_pred = clf.predict(X_val)\n",
    "fpr, tpr, thresholds = metrics.roc_curve(y_val, y_pred)\n",
    "metrics.auc(fpr, tpr)"
   ]
  },
  {
   "cell_type": "code",
   "execution_count": 46,
   "id": "d0a9b2f9-bb96-4ed9-8c66-f3c15a2759b2",
   "metadata": {},
   "outputs": [],
   "source": [
    "def Profit_top_k(df_results, k = 20, var = 'average cost min'):\n",
    "    sorted_df = df_results.sort_values(by= \"predict_proba\", ascending = False)\n",
    "    sum = 0\n",
    "    for i in range(0, k):\n",
    "        if df_results['y_true'][i] == df_results['y_pred'][i]:\n",
    "            sum += df_results[var][i]\n",
    "    return sum"
   ]
  },
  {
   "cell_type": "code",
   "execution_count": 47,
   "id": "7346e08d-8630-4bec-9eba-b4cc43c2c2b3",
   "metadata": {},
   "outputs": [
    {
     "data": {
      "text/plain": [
       "3.2831259999999998"
      ]
     },
     "execution_count": 47,
     "metadata": {},
     "output_type": "execute_result"
    }
   ],
   "source": [
    "y_pred_proba = clf.predict_proba(X_val)\n",
    "y_pred_proba = [sublist[1] for sublist in y_pred_proba]\n",
    "\n",
    "df_results_val = pd.DataFrame()\n",
    "df_results_val['y_pred'] = y_pred\n",
    "df_results_val['y_true'] = y_val\n",
    "df_results_val['predict_proba'] = y_pred_proba\n",
    "df_results_val['average cost min'] = list(averagecostmin)\n",
    "Profit_top_k(df_results_val)"
   ]
  },
  {
   "cell_type": "markdown",
   "id": "066f02d3-5218-47a3-964e-7a8a38eb5bc0",
   "metadata": {},
   "source": [
    "#### Test Predictions"
   ]
  },
  {
   "cell_type": "code",
   "execution_count": 48,
   "id": "12fc8573-659e-4296-9d34-cf2ae375d2d4",
   "metadata": {},
   "outputs": [],
   "source": [
    "y_pred_proba_test = clf.predict_proba(X_test)\n",
    "y_pred_proba_test = [sublist[1] for sublist in y_pred_proba_test]"
   ]
  },
  {
   "cell_type": "code",
   "execution_count": 49,
   "id": "f3095b37-af6f-4f87-888a-04bccec5f6d0",
   "metadata": {},
   "outputs": [],
   "source": [
    "df_results = pd.DataFrame()\n",
    "df_results[\"ID\"] = idtest\n",
    "df_results[\"PRED\"] = y_pred_proba_test"
   ]
  },
  {
   "cell_type": "code",
   "execution_count": 51,
   "id": "a8a310d6-d6e1-4b32-a282-3ec26e15c415",
   "metadata": {},
   "outputs": [],
   "source": [
    "df_results.to_csv(\"Model_ResultsPrep2.csv\", index = False)"
   ]
  }
 ],
 "metadata": {
  "kernelspec": {
   "display_name": "Python 3 (ipykernel)",
   "language": "python",
   "name": "python3"
  },
  "language_info": {
   "codemirror_mode": {
    "name": "ipython",
    "version": 3
   },
   "file_extension": ".py",
   "mimetype": "text/x-python",
   "name": "python",
   "nbconvert_exporter": "python",
   "pygments_lexer": "ipython3",
   "version": "3.11.7"
  }
 },
 "nbformat": 4,
 "nbformat_minor": 5
}
