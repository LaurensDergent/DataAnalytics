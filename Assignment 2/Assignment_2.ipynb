{
 "cells": [
  {
   "cell_type": "markdown",
   "metadata": {},
   "source": [
    "# Assignment 2"
   ]
  },
  {
   "cell_type": "markdown",
   "metadata": {},
   "source": [
    "In this assignment the goal is to be able to price a game based on an image. This will be done using a convolutional neural network.\n",
    "For this assignment three methods are developed with the goal of pricing the games:\n",
    "1. Building a CNN that does not take into consideration that some screenshots belong to the same game.\n",
    "1. Building a CNN that takes into consideration that some screenshots belong to the same game by stitching the screenshots of a game together to create one large image. This large image is then fed into the CNN. \n",
    "1. Building a CNN that takes into consideration that some screenshots belong to the same game by using multiple screenshots of a game as input of a multi-branch CNN with a concatenated layer.\n",
    "\n",
    "First, some general pre-processing is discussed. This ensures that the same splits will be used for each method. Then, for each method the pre-processing steps are discussed. Then each model with the necessary evaluation criteria is built. Then, based on the the evaluation metric, the best of the three beforementioned methods is selected. Lastly, some interpretability techniques to get insights on the model is given. "
   ]
  },
  {
   "cell_type": "markdown",
   "metadata": {},
   "source": [
    "To start, the necessary packages and data are loaded in. The data with for each game the related price and images are included. Additionally, a path is created to where the images are stored on the local device."
   ]
  },
  {
   "cell_type": "code",
   "execution_count": null,
   "metadata": {},
   "outputs": [],
   "source": [
    "#Load the following packages:\n",
    "import os\n",
    "import json\n",
    "import numpy as np\n",
    "import pandas as pd\n",
    "import keras\n",
    "import matplotlib.pyplot as plt\n",
    "import tensorflow as tf\n",
    "\n",
    "\n",
    "# Set the location of where the images are stored. Adjust to the correct location when running the code!\n",
    "image_location = '/Users/sarahguilliams/Desktop/Advanced Analytics in a Big Data World/Assignment2/images'\n",
    "\n",
    "#  Load the json datafile\n",
    "file_path = \"dataset.json\"\n",
    "\n",
    "# Open the JSON file and load its contents\n",
    "with open(file_path, 'r') as file:\n",
    "    data = json.load(file)\n",
    "\n",
    "data1 = pd.DataFrame(data) #Make sure that the data has the DataFrame format\n",
    "data1.head() #print the first 5 rows with data"
   ]
  },
  {
   "cell_type": "markdown",
   "metadata": {},
   "source": [
    "## Pre-processing"
   ]
  },
  {
   "cell_type": "markdown",
   "metadata": {},
   "source": [
    "### Removing outliers"
   ]
  },
  {
   "cell_type": "code",
   "execution_count": null,
   "metadata": {},
   "outputs": [],
   "source": [
    "# Select a portion of the games. If we want to train on all of the data, set it equal to 1.\n",
    "num_selected_games = int(len(data1))\n",
    "np.random.seed(0) #This is so that we get the same games when training the model.\n",
    "selected_games = data1.sample(n=num_selected_games)\n",
    "#print(selected_games) \n",
    "\n",
    "# Remove the games that have a price larger than 100 USD from train_games\n",
    "selected_games_no_outliers = selected_games[selected_games['price'] <= 10000]\n",
    "\n"
   ]
  },
  {
   "cell_type": "markdown",
   "metadata": {},
   "source": [
    "### Train-test split"
   ]
  },
  {
   "cell_type": "code",
   "execution_count": null,
   "metadata": {},
   "outputs": [],
   "source": [
    "# Train test split\n",
    "from sklearn.model_selection import train_test_split\n",
    "# Split data into training and validation sets based on games\n",
    "train1_games, test_games = train_test_split(selected_games_no_outliers, test_size=0.2, random_state=42) \n",
    "train_games, val_games = train_test_split(train1_games, test_size=0.25, random_state=42) # 0.25 * 0.8 = 0.2"
   ]
  }
 ],
 "metadata": {
  "language_info": {
   "name": "python"
  }
 },
 "nbformat": 4,
 "nbformat_minor": 2
}
