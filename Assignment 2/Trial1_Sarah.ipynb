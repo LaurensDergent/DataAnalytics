{
 "cells": [
  {
   "cell_type": "markdown",
   "metadata": {},
   "source": [
    "# Assignment 2"
   ]
  },
  {
   "cell_type": "markdown",
   "metadata": {},
   "source": [
    "In this assignment the goal is to be able to price a game based on an image. This will be done using a convolutional neural network. In what follows we first performed some ..."
   ]
  },
  {
   "cell_type": "markdown",
   "metadata": {},
   "source": [
    "To Do:\n",
    "- Do a round of fine-tuning of the entire model\n",
    "- Add a base-line\n",
    "    take the average from the training data and use it on the validation data, we want to improve this with our model\n"
   ]
  },
  {
   "cell_type": "markdown",
   "metadata": {},
   "source": [
    "## Train, validation, test split and data pre-processing"
   ]
  },
  {
   "cell_type": "markdown",
   "metadata": {},
   "source": [
    "The first step requires loading in the images and the json file that includes the price for each game and the corresponding screenshots. <br> <br>\n"
   ]
  },
  {
   "cell_type": "code",
   "execution_count": 64,
   "metadata": {},
   "outputs": [],
   "source": [
    "#Load the following packages:\n",
    "import os\n",
    "import json\n",
    "import numpy as np\n",
    "import pandas as pd\n",
    "import keras\n",
    "import matplotlib.pyplot as plt\n",
    "import tensorflow\n",
    "from sklearn.model_selection import train_test_split\n",
    "\n",
    "# Set the location of where the images are stored. Adjust if necessary\n",
    "image_location = '/Users/sarahguilliams/Desktop/Advanced Analytics in a Big Data World/Assignment2/images'\n",
    "\n",
    "# Load the json datafile\n",
    "file_path = \"dataset.json\"\n",
    "\n",
    "# Open the JSON file and load its contents\n",
    "with open(file_path, 'r') as file:\n",
    "    data = json.load(file)\n",
    "data1 = pd.DataFrame(data)\n",
    "\n"
   ]
  },
  {
   "cell_type": "markdown",
   "metadata": {},
   "source": [
    "The next part of the pre-processing requires a check for corrupted images. These images needed to be removed as they caused errors when fitting the model. Using the code below a check was perfomed to assess which images were corrupted. In the end 41 corrupted images were removed from the images folder."
   ]
  },
  {
   "cell_type": "code",
   "execution_count": 65,
   "metadata": {},
   "outputs": [
    {
     "name": "stdout",
     "output_type": "stream",
     "text": [
      "** Path: /Users/sarahguilliams/Desktop/Advanced Analytics in a Big Data World/Assignment2/images/2535790_ss_fbb417464849fa966c1095d4135bd9df112e7558.1920x1080.jpg  **.jpg  **\r"
     ]
    },
    {
     "ename": "KeyboardInterrupt",
     "evalue": "",
     "output_type": "error",
     "traceback": [
      "\u001b[0;31m---------------------------------------------------------------------------\u001b[0m",
      "\u001b[0;31mKeyboardInterrupt\u001b[0m                         Traceback (most recent call last)",
      "Cell \u001b[0;32mIn[65], line 11\u001b[0m\n\u001b[1;32m      9\u001b[0m \u001b[38;5;28mprint\u001b[39m(\u001b[38;5;124m'\u001b[39m\u001b[38;5;124m** Path: \u001b[39m\u001b[38;5;132;01m{}\u001b[39;00m\u001b[38;5;124m  **\u001b[39m\u001b[38;5;124m'\u001b[39m\u001b[38;5;241m.\u001b[39mformat(file_path), end\u001b[38;5;241m=\u001b[39m\u001b[38;5;124m\"\u001b[39m\u001b[38;5;130;01m\\r\u001b[39;00m\u001b[38;5;124m\"\u001b[39m, flush\u001b[38;5;241m=\u001b[39m\u001b[38;5;28;01mTrue\u001b[39;00m)\n\u001b[1;32m     10\u001b[0m im \u001b[38;5;241m=\u001b[39m Image\u001b[38;5;241m.\u001b[39mopen(file_path)\n\u001b[0;32m---> 11\u001b[0m rgb_im \u001b[38;5;241m=\u001b[39m \u001b[43mim\u001b[49m\u001b[38;5;241;43m.\u001b[39;49m\u001b[43mconvert\u001b[49m\u001b[43m(\u001b[49m\u001b[38;5;124;43m'\u001b[39;49m\u001b[38;5;124;43mRGB\u001b[39;49m\u001b[38;5;124;43m'\u001b[39;49m\u001b[43m)\u001b[49m\n\u001b[1;32m     12\u001b[0m \u001b[38;5;28;01mif\u001b[39;00m fldr\u001b[38;5;241m.\u001b[39msplit(\u001b[38;5;124m'\u001b[39m\u001b[38;5;124m.\u001b[39m\u001b[38;5;124m'\u001b[39m)[\u001b[38;5;241m1\u001b[39m] \u001b[38;5;129;01mnot\u001b[39;00m \u001b[38;5;129;01min\u001b[39;00m extensions:\n\u001b[1;32m     13\u001b[0m     extensions\u001b[38;5;241m.\u001b[39mappend(fldr\u001b[38;5;241m.\u001b[39msplit(\u001b[38;5;124m'\u001b[39m\u001b[38;5;124m.\u001b[39m\u001b[38;5;124m'\u001b[39m)[\u001b[38;5;241m1\u001b[39m])\n",
      "File \u001b[0;32m/Library/Frameworks/Python.framework/Versions/3.12/lib/python3.12/site-packages/PIL/Image.py:922\u001b[0m, in \u001b[0;36mImage.convert\u001b[0;34m(self, mode, matrix, dither, palette, colors)\u001b[0m\n\u001b[1;32m    874\u001b[0m \u001b[38;5;28;01mdef\u001b[39;00m \u001b[38;5;21mconvert\u001b[39m(\n\u001b[1;32m    875\u001b[0m     \u001b[38;5;28mself\u001b[39m, mode\u001b[38;5;241m=\u001b[39m\u001b[38;5;28;01mNone\u001b[39;00m, matrix\u001b[38;5;241m=\u001b[39m\u001b[38;5;28;01mNone\u001b[39;00m, dither\u001b[38;5;241m=\u001b[39m\u001b[38;5;28;01mNone\u001b[39;00m, palette\u001b[38;5;241m=\u001b[39mPalette\u001b[38;5;241m.\u001b[39mWEB, colors\u001b[38;5;241m=\u001b[39m\u001b[38;5;241m256\u001b[39m\n\u001b[1;32m    876\u001b[0m ):\n\u001b[1;32m    877\u001b[0m \u001b[38;5;250m    \u001b[39m\u001b[38;5;124;03m\"\"\"\u001b[39;00m\n\u001b[1;32m    878\u001b[0m \u001b[38;5;124;03m    Returns a converted copy of this image. For the \"P\" mode, this\u001b[39;00m\n\u001b[1;32m    879\u001b[0m \u001b[38;5;124;03m    method translates pixels through the palette.  If mode is\u001b[39;00m\n\u001b[0;32m   (...)\u001b[0m\n\u001b[1;32m    919\u001b[0m \u001b[38;5;124;03m    :returns: An :py:class:`~PIL.Image.Image` object.\u001b[39;00m\n\u001b[1;32m    920\u001b[0m \u001b[38;5;124;03m    \"\"\"\u001b[39;00m\n\u001b[0;32m--> 922\u001b[0m     \u001b[38;5;28;43mself\u001b[39;49m\u001b[38;5;241;43m.\u001b[39;49m\u001b[43mload\u001b[49m\u001b[43m(\u001b[49m\u001b[43m)\u001b[49m\n\u001b[1;32m    924\u001b[0m     has_transparency \u001b[38;5;241m=\u001b[39m \u001b[38;5;124m\"\u001b[39m\u001b[38;5;124mtransparency\u001b[39m\u001b[38;5;124m\"\u001b[39m \u001b[38;5;129;01min\u001b[39;00m \u001b[38;5;28mself\u001b[39m\u001b[38;5;241m.\u001b[39minfo\n\u001b[1;32m    925\u001b[0m     \u001b[38;5;28;01mif\u001b[39;00m \u001b[38;5;129;01mnot\u001b[39;00m mode \u001b[38;5;129;01mand\u001b[39;00m \u001b[38;5;28mself\u001b[39m\u001b[38;5;241m.\u001b[39mmode \u001b[38;5;241m==\u001b[39m \u001b[38;5;124m\"\u001b[39m\u001b[38;5;124mP\u001b[39m\u001b[38;5;124m\"\u001b[39m:\n\u001b[1;32m    926\u001b[0m         \u001b[38;5;66;03m# determine default mode\u001b[39;00m\n",
      "File \u001b[0;32m/Library/Frameworks/Python.framework/Versions/3.12/lib/python3.12/site-packages/PIL/ImageFile.py:291\u001b[0m, in \u001b[0;36mImageFile.load\u001b[0;34m(self)\u001b[0m\n\u001b[1;32m    288\u001b[0m         \u001b[38;5;28;01mraise\u001b[39;00m \u001b[38;5;167;01mOSError\u001b[39;00m(msg)\n\u001b[1;32m    290\u001b[0m b \u001b[38;5;241m=\u001b[39m b \u001b[38;5;241m+\u001b[39m s\n\u001b[0;32m--> 291\u001b[0m n, err_code \u001b[38;5;241m=\u001b[39m \u001b[43mdecoder\u001b[49m\u001b[38;5;241;43m.\u001b[39;49m\u001b[43mdecode\u001b[49m\u001b[43m(\u001b[49m\u001b[43mb\u001b[49m\u001b[43m)\u001b[49m\n\u001b[1;32m    292\u001b[0m \u001b[38;5;28;01mif\u001b[39;00m n \u001b[38;5;241m<\u001b[39m \u001b[38;5;241m0\u001b[39m:\n\u001b[1;32m    293\u001b[0m     \u001b[38;5;28;01mbreak\u001b[39;00m\n",
      "\u001b[0;31mKeyboardInterrupt\u001b[0m: "
     ]
    }
   ],
   "source": [
    "import os\n",
    "from PIL import Image\n",
    "folder_path = '/Users/sarahguilliams/Desktop/Advanced Analytics in a Big Data World/Assignment2/images'\n",
    "extensions = []\n",
    "for fldr in os.listdir(folder_path):\n",
    "    if fldr == '.DS_Store':\n",
    "        continue\n",
    "    file_path = os.path.join(folder_path, fldr)\n",
    "    print('** Path: {}  **'.format(file_path), end=\"\\r\", flush=True)\n",
    "    im = Image.open(file_path)\n",
    "    rgb_im = im.convert('RGB')\n",
    "    if fldr.split('.')[1] not in extensions:\n",
    "        extensions.append(fldr.split('.')[1])\n"
   ]
  },
  {
   "cell_type": "markdown",
   "metadata": {},
   "source": [
    "These 41 corrupted images were removed from the folder. For some games, this ended up removing all images for the game. Therefore, the games that had a corrupted image were removed. This prevents the possibility of games with all corrupted images ending in the test set and potentially _____ of our result."
   ]
  },
  {
   "cell_type": "code",
   "execution_count": 66,
   "metadata": {},
   "outputs": [
    {
     "name": "stdout",
     "output_type": "stream",
     "text": [
      "Original Data Frame:\n",
      "Name      object\n",
      "Age        int64\n",
      "Gender    object\n",
      "dtype: object\n",
      "0    False\n",
      "1    False\n",
      "2    False\n",
      "3     True\n",
      "4     True\n",
      "Name: Name, dtype: bool\n",
      "\n",
      "Data Frame after removing rows that contain 'Smith' in 'Name' column:\n",
      "           Name  Age  Gender\n",
      "0      John Doe   25    Male\n",
      "1      Jane Doe   30  Female\n",
      "2  Mark Johnson   40    Male\n"
     ]
    }
   ],
   "source": [
    "import pandas as pd\n",
    "\n",
    "# create a sample data frame\n",
    "df = pd.DataFrame({'Name': ['John Doe', 'Jane Doe', 'Mark Johnson', 'Sarah Smith', 'Adam Smith'],\n",
    "                   'Age': [25, 30, 40, 20, 35],\n",
    "                   'Gender': ['Male', 'Female', 'Male', 'Female', 'Male']})\n",
    "\n",
    "# display the original data frame\n",
    "print(\"Original Data Frame:\")\n",
    "print(df.dtypes)\n",
    "\n",
    "# filter the rows that contain the substring\n",
    "substring = 'Smith'\n",
    "filter = df['Name'].str.contains(substring)\n",
    "print(filter)\n",
    "filtered_df = df[~filter]\n",
    "\n",
    "# display the filtered data frame\n",
    "print(f\"\\nData Frame after removing rows that contain '{substring}' in 'Name' column:\")\n",
    "print(filtered_df)"
   ]
  },
  {
   "cell_type": "code",
   "execution_count": 41,
   "metadata": {},
   "outputs": [],
   "source": [
    "# Manually provide a list of corrupted screenshots.\n",
    "corrupted_screenshots = [\n",
    "    '1029210_ss_7096afc94036153001b266a75253fb6abdd03c54.1920x1080.jpg',\n",
    "    '1029210_ss_ddf975e414f08a0bb419818d2cd94be4ebff6db9.1920x1080.jpg',\n",
    "    '2445340_ss_fdbf4004c0087b96c3a8ebb1152179b3563d7091.1920x1080.jpg',\n",
    "    '2744670_ss_beb7ded23e2d824ca7d80272d706ee08e6af21d8.1920x1080.jpg',\n",
    "    '2744670_ss_c300132b42d284bed90332afa50d6fa469ece912.1920x1080.jpg', \n",
    "    '2744670_ss_e19d879e2fce6c91e78e7f983a3540f789efa484.1920x1080.jpg',\n",
    "    '2744730_ss_3fe2c9952214fdfe7d78906609dcd1f217bbff65.1920x1080.jpg',\n",
    "    '2744730_ss_05ee36cd4dcc206e6f053cc14a6c84a73f2fc406.1920x1080.jpg',\n",
    "    '2744730_ss_7dcf667813fbd44e61e4a772828fde5dd94fd9cc.1920x1080.jpg',\n",
    "    '2744730_ss_9e055a32329bd7a9a81d5101bd3980a2b517b398.1920x1080.jpg',\n",
    "    '2744730_ss_f4e3ef6ecac8026a5d237561ac2cb47bea993510.1920x1080.jpg',\n",
    "    '2744840_ss_3cb8d2c6b795f00815a177547c931d2e59747c9c.1920x1080.jpg',\n",
    "    '2744840_ss_3cd4c192c3b725de016c8c94fdcad8ad35cac377.1920x1080.jpg',\n",
    "    '2744840_ss_72f2e2286a826c02423d760d51b36dc50e039e1c.1920x1080.jpg',\n",
    "    '2744840_ss_3387a3b945dddcaa7e1acc29d2e91b4cf2b479fb.1920x1080.jpg',\n",
    "    '2744840_ss_5704aa3e754f7fd64e0a56a890217230ad970f95.1920x1080.jpg',\n",
    "    '2744840_ss_9861fdb7a393238a37c2c14e67fb43a277e571d2.1920x1080.jpg',\n",
    "    '2744840_ss_bfff2b970adea1a853baab4108fab4ef53f26659.1920x1080.jpg',\n",
    "    '2744840_ss_dbe32bd3d446243d2476cc0f3188f6c1746d8821.1920x1080.jpg',\n",
    "    '2744840_ss_ea72a9a1679e8e076c1aa1f62dc67d59b7b5c773.1920x1080.jpg',\n",
    "    '2744840_ss_fef3288db4f2f2fa1214e0d63074fda5c8023590.1920x1080.jpg',\n",
    "    '2744890_ss_0f1070ff36acb5b179cd5d644742c712f2758f7a.1920x1080.jpg',\n",
    "    '2744890_ss_12f5c79481bd54534572fbf8a7e8075f0706cec9.1920x1080.jpg',\n",
    "    '2744890_ss_38ad40c0189c8d58bb3f92ea53f0f6606e856379.1920x1080.jpg',\n",
    "    '2744890_ss_093461c3d0ab1501406d654cbb2c38d8be6536e7.1920x1080.jpg',\n",
    "    '2744890_ss_6550307213cc0b6a64c52feef0890760d9d75093.1920x1080.jpg',\n",
    "    '2744890_ss_abf20b071e583cc20089ee502537e42c55fc26e2.1920x1080.jpg',\n",
    "    '2744890_ss_d9ac38eeaefaf285a7c8618b18e0bbacbccd54f4.1920x1080.jpg',\n",
    "    '2744890_ss_d59ced9f0c52e4f667aa7c4d70fa7de1f7f5fe36.1920x1080.jpg',\n",
    "    '2744890_ss_dd28096d2091c6668a7a631f21649fd75ac7cc49.1920x1080.jpg',\n",
    "    '2744890_ss_f82bd8c5e097766a7e00493554ea96c0a3e087ed.1920x1080.jpg',\n",
    "    '2744900_ss_4d048d40469b74846d85c466c96fd727cfed156f.1920x1080.jpg',\n",
    "    '2744900_ss_10f337ff9c3a11667afd03aaacdcaf612076b3b8.1920x1080.jpg',\n",
    "    '2744900_ss_6568a014272966df41aee8eab34cbba36dbc70cc.1920x1080.jpg',\n",
    "    '2744900_ss_7800ddb10c8ea24cfecba9afd6643df967379fe9.1920x1080.jpg',\n",
    "    '2744900_ss_f182d564e931daa9efb501946256ed55be49ea11.1920x1080.jpg',\n",
    "    '2744970_ss_2db7d7fd464395ad066d321bef78c520638b64f9.1920x1080.jpg',\n",
    "    '2744970_ss_4e2198f8821bba60ca4d2b4d6c395e079b98f26f.1920x1080.jpg',\n",
    "    '2744970_ss_6bd42da83b6913963146ff2baa8a520d5d382aa1.1920x1080.jpg',\n",
    "    '2744970_ss_c85c9c41065b8e3f437f10716b0683c842017ed1.1920x1080.jpg',\n",
    "    '2744970_ss_dc17aac0f8251a33d3bb2ab0c7a80b2b823d8ff6.1920x1080.jpg'\n",
    "]\n",
    "\n",
    "\n",
    "# Identify games with corrupted screenshots\n",
    "games_to_remove = set()\n",
    "for corrupted_screenshot in corrupted_screenshots:\n",
    "    for index, row in data1.iterrows():\n",
    "        if corrupted_screenshot in row['screenshots']:\n",
    "            games_to_remove.add(row['appid'])\n",
    "\n",
    "# Remove rows corresponding to the identified games\n",
    "data1 = data1[~data1['appid'].isin(games_to_remove)]"
   ]
  },
  {
   "cell_type": "markdown",
   "metadata": {},
   "source": [
    "A key aspect of this assignment was accounting for the fact that a game can have multiple images. Therefore, when the training, validation, test split was made, this was done based on the games instead of on the seperate images. For this model the decision was made to split our data 60/20/20. \n"
   ]
  },
  {
   "cell_type": "code",
   "execution_count": 67,
   "metadata": {},
   "outputs": [],
   "source": [
    "\n",
    "# Select 10% of the games\n",
    "#num_selected_games = int(len(data1) * 0.2)\n",
    "#np.random.seed(0) #This is so that we get the same games when training the model.\n",
    "#selected_games = data1.sample(n=num_selected_games)\n",
    "#print(selected_games) # selected 1468 games\n",
    "\n",
    "#If we want to train on all games\n",
    "selected_games = data1\n",
    "\n",
    "# Extract game IDs and prices\n",
    "game_ids = []\n",
    "prices = []\n",
    "for index, game in selected_games.iterrows():\n",
    "    game_ids.append(game['appid'])\n",
    "    prices.append(game['price'])\n",
    "\n",
    "\n",
    "# Split data into training and validation sets based on games\n",
    "train1_games, test_games = train_test_split(selected_games, test_size=0.2, random_state=42)\n",
    "train_games, val_games = train_test_split(train1_games, test_size=0.25, random_state=42) # 0.25 * 0.8 = 0.2"
   ]
  },
  {
   "cell_type": "markdown",
   "metadata": {},
   "source": [
    "Once the splitting, some pre-processing needed to occur. Here a key aspect is normalizing the images and also performing some data augmentation. In doing so we needed to account for two factors: (1) there are 125k+ images, which makes it too large to import all at once, and (2) the images are all contained in one folder. <br>"
   ]
  },
  {
   "cell_type": "code",
   "execution_count": 68,
   "metadata": {},
   "outputs": [
    {
     "name": "stdout",
     "output_type": "stream",
     "text": [
      "                                              screenshot  price\n",
      "0      1143810_ss_03689be85716c6f02e35be5ff11046366b8...   1950\n",
      "1      1143810_ss_2707590d7ce621d99ad16145c08c48025a6...   1950\n",
      "2      1143810_ss_326cb4b33535c35ba46a79df1d65b47a0bb...   1950\n",
      "3      1143810_ss_37e5d9d195d7b6a95b82275bf3fb8db460c...   1950\n",
      "4      1143810_ss_8fa3249b7bce33c796eba17e57a09c600d9...   1950\n",
      "...                                                  ...    ...\n",
      "77463  2589350_ss_9611ca2bf1a51a139ba091a6d79f17f1a4f...   1179\n",
      "77464  2589350_ss_9efd851a5cf3d9c77f0f210a0110a076651...   1179\n",
      "77465  2589350_ss_c968ebcbdde82edd3e83af15b644d19b626...   1179\n",
      "77466  2589350_ss_e225bad50b46e8c0d14a48569e84716f576...   1179\n",
      "77467  2589350_ss_f0af040baee0e023ef52c2070655e000996...   1179\n",
      "\n",
      "[77468 rows x 2 columns]\n",
      "                                              screenshot  price\n",
      "0      2614200_ss_11f8e8d086046fcb51d36852723ebe03647...    399\n",
      "1      2614200_ss_71fbb8f95dd7e624eb24db8bbb9ab9f7d3e...    399\n",
      "2      2614200_ss_7470f975805c4545b4d500edb1fdcfa05bf...    399\n",
      "3      2614200_ss_a8eb8c4b7ac5ebd53f7598bc405da51ec55...    399\n",
      "4      2614200_ss_b1a02e32589b55671da2bb2f7fc9421e7a1...    399\n",
      "...                                                  ...    ...\n",
      "25770  2059340_ss_21491a02738d58fa173c12390a1c3d0c127...    589\n",
      "25771  2059340_ss_486688681a3741e02586437098b6e925595...    589\n",
      "25772  2059340_ss_9e823116b9ea043d57b3aa47549a7eb3843...    589\n",
      "25773  2059340_ss_a2dda7d00a96a2b1a5e98415f4f9162ad69...    589\n",
      "25774  2059340_ss_a38db6ec01ad629af7d6710bc61ec7644c7...    589\n",
      "\n",
      "[25775 rows x 2 columns]\n",
      "                                              screenshot  price\n",
      "0      2506770_ss_0e5fb4347c611386c845775b3d4f3f9f903...   3999\n",
      "1      2506770_ss_59d8a720e6ca2d384cf3b9d97f00f11aab8...   3999\n",
      "2      2506770_ss_5ab9f04b29b3b4e974384c9f984d68e827e...   3999\n",
      "3      2506770_ss_6216891354a2efad6b4e203882afc379fd0...   3999\n",
      "4      2506770_ss_801151dd3063915b79d00effcf3d7580dc1...   3999\n",
      "...                                                  ...    ...\n",
      "25330  2275180_ss_90b260dce5cc4260df74eb8a1c7ea75a138...    100\n",
      "25331  2275180_ss_a369dd0b904dacd14d2afb320e2898a0198...    100\n",
      "25332  2275180_ss_dec2d1d75a2e2704b848affa6bb44e30ea7...    100\n",
      "25333  2275180_ss_f6f9e5e69d9e776b02f994d0ea185b2f7bc...    100\n",
      "25334  2275180_ss_fbffbed3769f0dae31f115cc6feabfe67fb...    100\n",
      "\n",
      "[25335 rows x 2 columns]\n"
     ]
    }
   ],
   "source": [
    "# Create a list of dictionaries for DataFrame\n",
    "train_data = []\n",
    "for index, game in train_games.iterrows():\n",
    "    for screenshot in game['screenshots']:\n",
    "        train_data.append({'screenshot': screenshot, 'price': game['price']})\n",
    "\n",
    "# Create DataFrame\n",
    "train_label_df = pd.DataFrame(train_data)\n",
    "\n",
    "# Display the DataFrame\n",
    "print(train_label_df)\n",
    "\n",
    "# Do the same for the validation set\n",
    "val_data = []\n",
    "for index, game in val_games.iterrows():\n",
    "    for screenshot in game['screenshots']:\n",
    "        val_data.append({'screenshot': screenshot, 'price': game['price']})\n",
    "\n",
    "# Create DataFrame\n",
    "val_label_df = pd.DataFrame(val_data)\n",
    "\n",
    "# Display the DataFrame\n",
    "print(val_label_df)\n",
    "\n",
    "\n",
    "# Do the same for the test set\n",
    "# Create a list of dictionaries for DataFrame\n",
    "test_data = []\n",
    "for index, game in test_games.iterrows():\n",
    "    for screenshot in game['screenshots']:\n",
    "        test_data.append({'screenshot': screenshot, 'price': game['price']})\n",
    "\n",
    "# Create DataFrame\n",
    "test_label_df = pd.DataFrame(test_data)\n",
    "\n",
    "# Display the DataFrame\n",
    "print(test_label_df)"
   ]
  },
  {
   "cell_type": "markdown",
   "metadata": {},
   "source": [
    "With Keras 2.2.4 you can use flow_from_dataframe which solves what you want to do, allowing you to flow images from a directory for regression problems. You should store all your images in a folder and load a dataframe containing in one column the image IDs and in the other column the regression score (labels) and set class_mode='other' in flow_from_dataframe.\n",
    "\n",
    "Here you can find an example where the images are in image_dir, the dataframe with the image IDs and the regression scores is loaded with pandas from the \"train file\""
   ]
  },
  {
   "cell_type": "markdown",
   "metadata": {},
   "source": [
    "Potentially add , horizontal_flip = True,\n",
    "                                   fill_mode = \"nearest\", zoom_range = 0.2,\n",
    "                                   width_shift_range = 0.2, height_shift_range=0.2,\n",
    "                                   rotation_range=30) \n",
    "to image generator.\n",
    "\n",
    "Currently, the images have a size of 1920 × 1080, reduction to 25% of this size to \n",
    "\n",
    "There are some factors that need to be taken into consideration here\n",
    "Firstly, there are some games that have a screenshot name in the json file, but that are not present in the folder of images\n",
    "Secondly, there are some images that are corrupted, and that therefore need to be removed from the analysis as they otherwise result in a model that cannot adequately be fit.<br>\n",
    "\n",
    "ex : 2798210_ss_04edddb8703d37f8c36c2e249dee191f22efec5f.1920x1080.jpg is in the json file but not in the images\n",
    "\n",
    "Additionally, there are 3 corrupted files. <br>\n",
    "2445340_ss_fdbf4004c0087b96c3a8ebb1152179b3563d7091.1920x1080.jpg <br>\n",
    "1029210_ss_7096afc94036153001b266a75253fb6abdd03c54.1920x1080.jpg <br>\n",
    "1029210_ss_ddf975e414f08a0bb419818d2cd94be4ebff6db9.1920x1080.jpg <br>\n",
    "These are deleted from the images folder"
   ]
  },
  {
   "cell_type": "code",
   "execution_count": 70,
   "metadata": {},
   "outputs": [
    {
     "name": "stdout",
     "output_type": "stream",
     "text": [
      "Found 73187 validated image filenames.\n"
     ]
    },
    {
     "name": "stderr",
     "output_type": "stream",
     "text": [
      "/Library/Frameworks/Python.framework/Versions/3.12/lib/python3.12/site-packages/keras/src/legacy/preprocessing/image.py:920: UserWarning: Found 4281 invalid image filename(s) in x_col=\"screenshot\". These filename(s) will be ignored.\n",
      "  warnings.warn(\n"
     ]
    },
    {
     "name": "stdout",
     "output_type": "stream",
     "text": [
      "Found 24347 validated image filenames.\n"
     ]
    },
    {
     "name": "stderr",
     "output_type": "stream",
     "text": [
      "/Library/Frameworks/Python.framework/Versions/3.12/lib/python3.12/site-packages/keras/src/legacy/preprocessing/image.py:920: UserWarning: Found 1428 invalid image filename(s) in x_col=\"screenshot\". These filename(s) will be ignored.\n",
      "  warnings.warn(\n"
     ]
    },
    {
     "name": "stdout",
     "output_type": "stream",
     "text": [
      "Found 23832 validated image filenames.\n"
     ]
    },
    {
     "name": "stderr",
     "output_type": "stream",
     "text": [
      "/Library/Frameworks/Python.framework/Versions/3.12/lib/python3.12/site-packages/keras/src/legacy/preprocessing/image.py:920: UserWarning: Found 1503 invalid image filename(s) in x_col=\"screenshot\". These filename(s) will be ignored.\n",
      "  warnings.warn(\n"
     ]
    }
   ],
   "source": [
    "train_datagen = tensorflow.keras.preprocessing.image.ImageDataGenerator(rescale=1./255, shear_range=0.2, zoom_range=0.2, \n",
    "                                                                        rotation_range=45, horizontal_flip=True, vertical_flip=True)\n",
    "\n",
    "\n",
    "train_generator = train_datagen.flow_from_dataframe(dataframe=train_label_df, directory=image_location, color_mode= \"rgb\",\n",
    "                                              x_col=\"screenshot\", y_col=\"price\", has_ext=True, \n",
    "                                              class_mode=\"other\", target_size=(224, 224), shuffle=True,\n",
    "                                              batch_size=64)\n",
    "\n",
    "val_datagen = tensorflow.keras.preprocessing.image.ImageDataGenerator(rescale=1./255) \n",
    "val_generator = val_datagen.flow_from_dataframe(dataframe=val_label_df, directory=image_location, color_mode= \"rgb\",\n",
    "                                              x_col=\"screenshot\", y_col=\"price\", has_ext=True, \n",
    "                                              class_mode=\"other\", target_size=(224, 224), shuffle=True,\n",
    "                                              batch_size=64)\n",
    "\n",
    "# for the test set\n",
    "test_datagen = tensorflow.keras.preprocessing.image.ImageDataGenerator(rescale=1./255) \n",
    "# here we don't perform any transormations\n",
    "\n",
    "test_generator = test_datagen.flow_from_dataframe(dataframe=test_label_df, directory=image_location, color_mode= \"rgb\",\n",
    "                                              x_col=\"screenshot\", y_col=\"price\", has_ext=True, \n",
    "                                              class_mode=\"other\", target_size=(224, 224),\n",
    "                                              batch_size=64)\n"
   ]
  },
  {
   "cell_type": "markdown",
   "metadata": {},
   "source": [
    "Using transfer learning (using a pre-trained model)\n",
    "https://keras.io/guides/transfer_learning/\n",
    "Remove the top last layers so these can be trained on our data.\n",
    "https://www.tensorflow.org/guide/keras/transfer_learning\n",
    "https://www.tensorflow.org/tutorials/images/transfer_learning#create_the_base_model_from_the_pre-trained_convnets"
   ]
  },
  {
   "cell_type": "code",
   "execution_count": 45,
   "metadata": {},
   "outputs": [],
   "source": [
    "from tensorflow.keras.applications import EfficientNetB0\n",
    "from tensorflow.keras import layers\n",
    "from tensorflow.keras.layers import GlobalAveragePooling2D, Dense, Dropout\n",
    "from tensorflow.keras.models import Sequential\n",
    "\n",
    "\n",
    "inputs= layers.Input(shape=(224, 224, 3))\n",
    "base_model = EfficientNetB0(\n",
    "    include_top=False, #Do not use the imagenet at the top\n",
    "    weights=\"imagenet\",\n",
    "    input_tensor= inputs,\n",
    "    pooling=None,\n",
    ")\n",
    "#base_model.summary()\n",
    "\n",
    "# Freeze the base model\n",
    "base_model.trainable = False\n",
    "\n",
    "# Add a layer on top\n",
    "x = layers.GlobalAveragePooling2D(name=\"avg_pool\")(base_model.output)\n",
    "x = layers.BatchNormalization()(x)\n",
    "top_dropout_rate = 0.4\n",
    "x = layers.Dropout(top_dropout_rate, name=\"top_dropout\")(x)\n",
    "outputs = layers.Dense(1, name=\"prediction\")(x)\n",
    "\n",
    "\n",
    "model = keras.Model(inputs, outputs)\n",
    "\n"
   ]
  },
  {
   "cell_type": "markdown",
   "metadata": {},
   "source": [
    "Cannot use MAPE because there are prices equal to zero => will not work"
   ]
  },
  {
   "cell_type": "code",
   "execution_count": 46,
   "metadata": {},
   "outputs": [
    {
     "name": "stdout",
     "output_type": "stream",
     "text": [
      "Model is compiled\n"
     ]
    }
   ],
   "source": [
    "# Train the model\n",
    "opt = keras.optimizers.Adam(learning_rate=0.01)\n",
    "model.compile(optimizer=opt, loss=keras.losses.MeanAbsoluteError(), metrics=[keras.metrics.MeanAbsoluteError()])\n",
    "print(\"Model is compiled\")\n",
    "\n"
   ]
  },
  {
   "cell_type": "code",
   "execution_count": 48,
   "metadata": {},
   "outputs": [
    {
     "name": "stdout",
     "output_type": "stream",
     "text": [
      "Epoch 1/5\n",
      "\u001b[1m2277/2277\u001b[0m \u001b[32m━━━━━━━━━━━━━━━━━━━━\u001b[0m\u001b[37m\u001b[0m \u001b[1m0s\u001b[0m 776ms/step - loss: 49972036.0000 - mean_absolute_percentage_error: 49985708.0000"
     ]
    },
    {
     "name": "stderr",
     "output_type": "stream",
     "text": [
      "/Library/Frameworks/Python.framework/Versions/3.12/lib/python3.12/site-packages/keras/src/trainers/data_adapters/py_dataset_adapter.py:122: UserWarning: Your `PyDataset` class should call `super().__init__(**kwargs)` in its constructor. `**kwargs` can include `workers`, `use_multiprocessing`, `max_queue_size`. Do not pass these arguments to `fit()`, as they will be ignored.\n",
      "  self._warn_if_super_not_called()\n"
     ]
    },
    {
     "name": "stdout",
     "output_type": "stream",
     "text": [
      "\u001b[1m2277/2277\u001b[0m \u001b[32m━━━━━━━━━━━━━━━━━━━━\u001b[0m\u001b[37m\u001b[0m \u001b[1m2275s\u001b[0m 997ms/step - loss: 49963004.0000 - mean_absolute_percentage_error: 49976672.0000 - val_loss: 3361309.5000 - val_mean_absolute_percentage_error: 3364683.0000\n",
      "Epoch 2/5\n"
     ]
    },
    {
     "name": "stderr",
     "output_type": "stream",
     "text": [
      "2024-04-12 14:21:20.027437: W tensorflow/core/framework/local_rendezvous.cc:404] Local rendezvous is aborting with status: OUT_OF_RANGE: End of sequence\n",
      "\t [[{{node IteratorGetNext}}]]\n",
      "/Library/Frameworks/Python.framework/Versions/3.12/lib/python3.12/contextlib.py:155: UserWarning: Your input ran out of data; interrupting training. Make sure that your dataset or generator can generate at least `steps_per_epoch * epochs` batches. You may need to use the `.repeat()` function when building your dataset.\n",
      "  self.gen.throw(value)\n"
     ]
    },
    {
     "name": "stdout",
     "output_type": "stream",
     "text": [
      "\u001b[1m2277/2277\u001b[0m \u001b[32m━━━━━━━━━━━━━━━━━━━━\u001b[0m\u001b[37m\u001b[0m \u001b[1m593s\u001b[0m 261ms/step - loss: 0.0000e+00 - mean_absolute_percentage_error: 0.0000e+00 - val_loss: 3368132.0000 - val_mean_absolute_percentage_error: 3364682.7500\n",
      "Epoch 3/5\n",
      "\u001b[1m2277/2277\u001b[0m \u001b[32m━━━━━━━━━━━━━━━━━━━━\u001b[0m\u001b[37m\u001b[0m \u001b[1m2366s\u001b[0m 1s/step - loss: 2597109.0000 - mean_absolute_percentage_error: 2597711.7500 - val_loss: 2896590.0000 - val_mean_absolute_percentage_error: 2899497.2500\n",
      "Epoch 4/5\n"
     ]
    },
    {
     "name": "stderr",
     "output_type": "stream",
     "text": [
      "2024-04-12 15:10:39.631279: W tensorflow/core/framework/local_rendezvous.cc:404] Local rendezvous is aborting with status: OUT_OF_RANGE: End of sequence\n",
      "\t [[{{node IteratorGetNext}}]]\n"
     ]
    },
    {
     "name": "stdout",
     "output_type": "stream",
     "text": [
      "\u001b[1m2277/2277\u001b[0m \u001b[32m━━━━━━━━━━━━━━━━━━━━\u001b[0m\u001b[37m\u001b[0m \u001b[1m530s\u001b[0m 233ms/step - loss: 0.0000e+00 - mean_absolute_percentage_error: 0.0000e+00 - val_loss: 2896592.0000 - val_mean_absolute_percentage_error: 2899499.2500\n",
      "Epoch 5/5\n",
      "\u001b[1m2277/2277\u001b[0m \u001b[32m━━━━━━━━━━━━━━━━━━━━\u001b[0m\u001b[37m\u001b[0m \u001b[1m2373s\u001b[0m 1s/step - loss: 5416099.0000 - mean_absolute_percentage_error: 5417067.5000 - val_loss: 2247283.2500 - val_mean_absolute_percentage_error: 2249538.7500\n"
     ]
    }
   ],
   "source": [
    "# fit the model\n",
    "history = model.fit(\n",
    "    train_generator,\n",
    "    steps_per_epoch=len(train_generator),\n",
    "    epochs=5,\n",
    "    validation_data=val_generator,\n",
    ")"
   ]
  },
  {
   "cell_type": "code",
   "execution_count": 49,
   "metadata": {},
   "outputs": [
    {
     "data": {
      "image/png": "[encoded data removed]",
      "text/plain": [
       "<Figure size 640x480 with 1 Axes>"
      ]
     },
     "metadata": {},
     "output_type": "display_data"
    }
   ],
   "source": [
    "# Plotting the error\n",
    "plt.plot(history.history['loss'])\n",
    "plt.plot(history.history['val_loss'])\n",
    "plt.title('model loss')\n",
    "plt.ylabel('loss')\n",
    "plt.xlabel('epoch')\n",
    "plt.legend(['train', 'val'], loc='upper left')\n",
    "plt.show()"
   ]
  },
  {
   "cell_type": "code",
   "execution_count": 50,
   "metadata": {},
   "outputs": [
    {
     "name": "stderr",
     "output_type": "stream",
     "text": [
      "/Library/Frameworks/Python.framework/Versions/3.12/lib/python3.12/site-packages/keras/src/trainers/data_adapters/py_dataset_adapter.py:122: UserWarning: Your `PyDataset` class should call `super().__init__(**kwargs)` in its constructor. `**kwargs` can include `workers`, `use_multiprocessing`, `max_queue_size`. Do not pass these arguments to `fit()`, as they will be ignored.\n",
      "  self._warn_if_super_not_called()\n"
     ]
    },
    {
     "name": "stdout",
     "output_type": "stream",
     "text": [
      "\u001b[1m769/769\u001b[0m \u001b[32m━━━━━━━━━━━━━━━━━━━━\u001b[0m\u001b[37m\u001b[0m \u001b[1m507s\u001b[0m 659ms/step - loss: 2264480.2500 - mean_absolute_percentage_error: 2264487.2500\n",
      "Test MAPE: 2314240.75\n"
     ]
    }
   ],
   "source": [
    "# Evaluate model\n",
    "loss, mean_absolute_percentage_error = model.evaluate(test_generator)\n",
    "print(\"Test MAPE:\", mean_absolute_percentage_error)"
   ]
  },
  {
   "cell_type": "code",
   "execution_count": 62,
   "metadata": {},
   "outputs": [
    {
     "data": {
      "text/html": [
       "<div>\n",
       "<style scoped>\n",
       "    .dataframe tbody tr th:only-of-type {\n",
       "        vertical-align: middle;\n",
       "    }\n",
       "\n",
       "    .dataframe tbody tr th {\n",
       "        vertical-align: top;\n",
       "    }\n",
       "\n",
       "    .dataframe thead th {\n",
       "        text-align: right;\n",
       "    }\n",
       "</style>\n",
       "<table border=\"1\" class=\"dataframe\">\n",
       "  <thead>\n",
       "    <tr style=\"text-align: right;\">\n",
       "      <th></th>\n",
       "      <th>screenshot</th>\n",
       "      <th>price</th>\n",
       "    </tr>\n",
       "  </thead>\n",
       "  <tbody>\n",
       "    <tr>\n",
       "      <th>0</th>\n",
       "      <td>1351380_ss_2bcc7f9533f0f919845b6ae90f150c9f646...</td>\n",
       "      <td>499</td>\n",
       "    </tr>\n",
       "    <tr>\n",
       "      <th>1</th>\n",
       "      <td>1351380_ss_2f1977505466907f80566ad362ee103b23d...</td>\n",
       "      <td>499</td>\n",
       "    </tr>\n",
       "    <tr>\n",
       "      <th>2</th>\n",
       "      <td>1351380_ss_5219608855a31b5cdcf6d146fbc9f0730f4...</td>\n",
       "      <td>499</td>\n",
       "    </tr>\n",
       "    <tr>\n",
       "      <th>3</th>\n",
       "      <td>1351380_ss_601f501c43eecf7531e54e9d56e8031e3b3...</td>\n",
       "      <td>499</td>\n",
       "    </tr>\n",
       "    <tr>\n",
       "      <th>4</th>\n",
       "      <td>1351380_ss_8132494a97f0f66b6185d458c76401c9f34...</td>\n",
       "      <td>499</td>\n",
       "    </tr>\n",
       "    <tr>\n",
       "      <th>5</th>\n",
       "      <td>1351380_ss_ed065371f379d7e68a2bc0c1184159c0c91...</td>\n",
       "      <td>499</td>\n",
       "    </tr>\n",
       "    <tr>\n",
       "      <th>6</th>\n",
       "      <td>2507710_ss_0c8aeb898b2a2a360fd44fb34df73edd2af...</td>\n",
       "      <td>0</td>\n",
       "    </tr>\n",
       "    <tr>\n",
       "      <th>7</th>\n",
       "      <td>2507710_ss_1cdc718037f8806ddc59cc7d9de7f7d9735...</td>\n",
       "      <td>0</td>\n",
       "    </tr>\n",
       "    <tr>\n",
       "      <th>8</th>\n",
       "      <td>2507710_ss_76f764ed10ec5e8b639d8d3dceb3d1125ab...</td>\n",
       "      <td>0</td>\n",
       "    </tr>\n",
       "    <tr>\n",
       "      <th>9</th>\n",
       "      <td>2507710_ss_e817bf579c97e7437b026a7c84f8974cc0c...</td>\n",
       "      <td>0</td>\n",
       "    </tr>\n",
       "    <tr>\n",
       "      <th>10</th>\n",
       "      <td>2507710_ss_eb99faf7f74910a96d099f2a34ce1839b70...</td>\n",
       "      <td>0</td>\n",
       "    </tr>\n",
       "    <tr>\n",
       "      <th>11</th>\n",
       "      <td>2471160_ss_0cbff984bca67da2be3d3da68ba2422b078...</td>\n",
       "      <td>975</td>\n",
       "    </tr>\n",
       "    <tr>\n",
       "      <th>12</th>\n",
       "      <td>2471160_ss_10a251471fe53534068d5c347532ef418db...</td>\n",
       "      <td>975</td>\n",
       "    </tr>\n",
       "    <tr>\n",
       "      <th>13</th>\n",
       "      <td>2471160_ss_23a4dff653718a5fe526a4c33720ceffd0f...</td>\n",
       "      <td>975</td>\n",
       "    </tr>\n",
       "    <tr>\n",
       "      <th>14</th>\n",
       "      <td>2471160_ss_434eea6c1d04dd54c4fdca747c648405b88...</td>\n",
       "      <td>975</td>\n",
       "    </tr>\n",
       "    <tr>\n",
       "      <th>15</th>\n",
       "      <td>2471160_ss_a02e85d830e121e68cd21acdf05f8e2c463...</td>\n",
       "      <td>975</td>\n",
       "    </tr>\n",
       "    <tr>\n",
       "      <th>16</th>\n",
       "      <td>2471160_ss_a857baf04983c1efe84e5a710675d4d1ed6...</td>\n",
       "      <td>975</td>\n",
       "    </tr>\n",
       "    <tr>\n",
       "      <th>17</th>\n",
       "      <td>2471160_ss_c207f4eac3aa0fde4954ba8b465e5b553e4...</td>\n",
       "      <td>975</td>\n",
       "    </tr>\n",
       "    <tr>\n",
       "      <th>18</th>\n",
       "      <td>2683110_ss_0125db84868bf05f61d17cca0e258291438...</td>\n",
       "      <td>689</td>\n",
       "    </tr>\n",
       "    <tr>\n",
       "      <th>19</th>\n",
       "      <td>2683110_ss_10c56bdb3a96db5a778af4a038fa677d5a7...</td>\n",
       "      <td>689</td>\n",
       "    </tr>\n",
       "  </tbody>\n",
       "</table>\n",
       "</div>"
      ],
      "text/plain": [
       "                                           screenshot  price\n",
       "0   1351380_ss_2bcc7f9533f0f919845b6ae90f150c9f646...    499\n",
       "1   1351380_ss_2f1977505466907f80566ad362ee103b23d...    499\n",
       "2   1351380_ss_5219608855a31b5cdcf6d146fbc9f0730f4...    499\n",
       "3   1351380_ss_601f501c43eecf7531e54e9d56e8031e3b3...    499\n",
       "4   1351380_ss_8132494a97f0f66b6185d458c76401c9f34...    499\n",
       "5   1351380_ss_ed065371f379d7e68a2bc0c1184159c0c91...    499\n",
       "6   2507710_ss_0c8aeb898b2a2a360fd44fb34df73edd2af...      0\n",
       "7   2507710_ss_1cdc718037f8806ddc59cc7d9de7f7d9735...      0\n",
       "8   2507710_ss_76f764ed10ec5e8b639d8d3dceb3d1125ab...      0\n",
       "9   2507710_ss_e817bf579c97e7437b026a7c84f8974cc0c...      0\n",
       "10  2507710_ss_eb99faf7f74910a96d099f2a34ce1839b70...      0\n",
       "11  2471160_ss_0cbff984bca67da2be3d3da68ba2422b078...    975\n",
       "12  2471160_ss_10a251471fe53534068d5c347532ef418db...    975\n",
       "13  2471160_ss_23a4dff653718a5fe526a4c33720ceffd0f...    975\n",
       "14  2471160_ss_434eea6c1d04dd54c4fdca747c648405b88...    975\n",
       "15  2471160_ss_a02e85d830e121e68cd21acdf05f8e2c463...    975\n",
       "16  2471160_ss_a857baf04983c1efe84e5a710675d4d1ed6...    975\n",
       "17  2471160_ss_c207f4eac3aa0fde4954ba8b465e5b553e4...    975\n",
       "18  2683110_ss_0125db84868bf05f61d17cca0e258291438...    689\n",
       "19  2683110_ss_10c56bdb3a96db5a778af4a038fa677d5a7...    689"
      ]
     },
     "execution_count": 62,
     "metadata": {},
     "output_type": "execute_result"
    }
   ],
   "source": [
    "test_label_df.head(20)"
   ]
  },
  {
   "cell_type": "markdown",
   "metadata": {},
   "source": [
    "Give the predicted price for a game\n"
   ]
  },
  {
   "cell_type": "code",
   "execution_count": 63,
   "metadata": {},
   "outputs": [
    {
     "name": "stdout",
     "output_type": "stream",
     "text": [
      "1351380_ss_2bcc7f9533f0f919845b6ae90f150c9f64611e7a.1920x1080.jpg\n"
     ]
    },
    {
     "data": {
      "image/png": "[encoded data removed]",
      "text/plain": [
       "<Figure size 640x480 with 1 Axes>"
      ]
     },
     "metadata": {},
     "output_type": "display_data"
    },
    {
     "name": "stdout",
     "output_type": "stream",
     "text": [
      "\u001b[1m1/1\u001b[0m \u001b[32m━━━━━━━━━━━━━━━━━━━━\u001b[0m\u001b[37m\u001b[0m \u001b[1m0s\u001b[0m 129ms/step\n",
      "[[0.22011396]]\n",
      "499\n"
     ]
    }
   ],
   "source": [
    "# Define the image location\n",
    "number = 0\n",
    "print(test_label_df.loc[number, \"screenshot\"])\n",
    "filename = test_label_df.loc[number, \"screenshot\"]\n",
    "#'620620_ss_01fe128c1e30f3cc9cee30fa4bbdb7f60e9abe67.1920x1080.jpg'\n",
    "\n",
    "# Construct the full path to the image\n",
    "image_path = os.path.join(image_location, filename)\n",
    "\n",
    "# Load and display the image\n",
    "img = keras.utils.load_img(image_path, target_size=(224, 224))\n",
    "plt.imshow(img)\n",
    "plt.show()\n",
    "\n",
    "img_array = keras.utils.img_to_array(img)\n",
    "img_array = keras.ops.expand_dims(img_array, 0)  # Create batch axis\n",
    "\n",
    "predictions = model.predict(img_array)\n",
    "print(predictions)\n",
    "print(test_label_df.loc[number, \"price\"])\n",
    "\n",
    "\n"
   ]
  },
  {
   "cell_type": "markdown",
   "metadata": {},
   "source": [
    "_________________________________________________________________________________________________________________________"
   ]
  }
 ],
 "metadata": {
  "kernelspec": {
   "display_name": "Python 3",
   "language": "python",
   "name": "python3"
  },
  "language_info": {
   "codemirror_mode": {
    "name": "ipython",
    "version": 3
   },
   "file_extension": ".py",
   "mimetype": "text/x-python",
   "name": "python",
   "nbconvert_exporter": "python",
   "pygments_lexer": "ipython3",
   "version": "3.12.0"
  }
 },
 "nbformat": 4,
 "nbformat_minor": 2
}
