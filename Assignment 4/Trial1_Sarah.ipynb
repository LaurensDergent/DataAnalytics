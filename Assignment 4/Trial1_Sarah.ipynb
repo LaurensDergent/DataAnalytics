{
 "cells": [
  {
   "cell_type": "markdown",
   "metadata": {},
   "source": [
    "# Assignment 4\n",
    "\n",
    "Important to remember: \n",
    "\n",
    "You are free to explore anything you deem interesting and present your findings in your report. The\n",
    "main goal is to get familiar with Cypher but also to hone your \"storytelling\" skills. In that sense, try to\n",
    "focus on a single or a few hypotheses or findings you explore in full (with nicely formatted visualizations)\n",
    "and explaining what it says instead of just going for quick filter saying: \"here are the three nodes with\n",
    "the most connections\" (boring) or showing a graph hairball.\n",
    "\n",
    "\n",
    "Pick something you want to explore and try to work this out in full.\n",
    "You will realize that the data set is likely too large to look at everything at once, so a guided “deep dive”\n",
    "will work better. Also, obviously most of the messages will be in Dutch or French, but that should not be\n",
    "too much of a burden to do something interesting."
   ]
  },
  {
   "cell_type": "markdown",
   "metadata": {},
   "source": [
    "Hypothesis: \n",
    "- far left and far right have more interaction + relatively more active engagement (think retweet, requote)\n",
    "- central parties verly little engagement because older population not very present on twitter"
   ]
  },
  {
   "cell_type": "code",
   "execution_count": null,
   "metadata": {},
   "outputs": [],
   "source": []
  }
 ],
 "metadata": {
  "language_info": {
   "name": "python"
  }
 },
 "nbformat": 4,
 "nbformat_minor": 2
}
