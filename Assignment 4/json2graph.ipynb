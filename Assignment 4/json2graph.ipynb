{
 "cells": [
  {
   "cell_type": "markdown",
   "metadata": {},
   "source": [
    "This script was made by the professor to convert our results that will be in a json format "
   ]
  },
  {
   "cell_type": "code",
   "execution_count": 1,
   "metadata": {},
   "outputs": [
    {
     "name": "stdout",
     "output_type": "stream",
     "text": [
      "Collecting networkxNote: you may need to restart the kernel to use updated packages.\n",
      "\n",
      "  Downloading networkx-3.3-py3-none-any.whl.metadata (5.1 kB)\n",
      "Downloading networkx-3.3-py3-none-any.whl (1.7 MB)\n",
      "   ---------------------------------------- 0.0/1.7 MB ? eta -:--:--\n",
      "   -------- ------------------------------- 0.4/1.7 MB 5.7 MB/s eta 0:00:01\n",
      "   --------------- ------------------------ 0.7/1.7 MB 5.9 MB/s eta 0:00:01\n",
      "   ---------------------------- ----------- 1.2/1.7 MB 5.5 MB/s eta 0:00:01\n",
      "   ------------------------------------- -- 1.6/1.7 MB 5.7 MB/s eta 0:00:01\n",
      "   ---------------------------------------  1.7/1.7 MB 5.4 MB/s eta 0:00:01\n",
      "   ---------------------------------------- 1.7/1.7 MB 4.9 MB/s eta 0:00:00\n",
      "Installing collected packages: networkx\n",
      "Successfully installed networkx-3.3\n"
     ]
    }
   ],
   "source": [
    "pip install networkx"
   ]
  },
  {
   "cell_type": "code",
   "execution_count": 2,
   "metadata": {},
   "outputs": [],
   "source": [
    "import sys\n",
    "import networkx as nx\n",
    "import json\n",
    "import re"
   ]
  },
  {
   "cell_type": "code",
   "execution_count": null,
   "metadata": {},
   "outputs": [],
   "source": [
    "def convert(in_file, out_file, full=False):\n",
    "    elements = []\n",
    "    with open(in_file, \"r\", encoding=\"utf-8\") as jsonl:\n",
    "        if not full:\n",
    "            for line in jsonl.readlines():\n",
    "                json_line = json.loads(line)\n",
    "                for _, ed in json_line.items():\n",
    "                    eds = []\n",
    "                    if type(ed) == dict:\n",
    "                        eds.append(ed)\n",
    "                    elif type(ed) == list:\n",
    "                        eds.extend(ed)\n",
    "                    for ed in eds:\n",
    "                        if ed.get(\"type\") in [\"path\"]:\n",
    "                            for node in ed.get(\"nodes\", []):\n",
    "                                elements.append(node)\n",
    "                            for rel in ed.get(\"relationships\", []):\n",
    "                                elements.append(rel)\n",
    "                        elif ed.get(\"type\") in [\"node\", \"relationship\"]:\n",
    "                            elements.append(ed)\n",
    "        else:\n",
    "            elements = [ed for ed in json.load(jsonl)]\n",
    "\n",
    "    nodes = {}\n",
    "    edges = {}\n",
    "\n",
    "    for element in elements:\n",
    "        if \"labels\" in element:\n",
    "            label = element[\"labels\"][0]\n",
    "        elif \"label\" in element:\n",
    "            label = element[\"label\"]\n",
    "        else:\n",
    "            print(f\"ERROR: Label not found for element: {element.get('ident')}\")\n",
    "        props = element.get(\"properties\", {})\n",
    "        typ = element.get(\"type\", None)\n",
    "        if typ == \"node\":\n",
    "            props[\"label\"] = props.get(\"ident\")\n",
    "            props[\"node_type\"] = label\n",
    "            props[f\"{label}_label\"] = props.get(\"ident\")\n",
    "            nodes[element.get(\"id\", props.get(\"ident\"))] = props\n",
    "        elif typ == \"relationship\":\n",
    "            start = element[\"start\"]\n",
    "            end = element[\"end\"]\n",
    "            props[\"edge_type\"] = label\n",
    "            edges[(start, end)] = props\n",
    "        else:\n",
    "            print(f\"ERROR: Unrecognized type: {typ}\")\n",
    "\n",
    "    G = nx.DiGraph()\n",
    "    for identifier, props in nodes.items():\n",
    "        G.add_node(identifier, **props)\n",
    "    for (start, end), props in edges.items():\n",
    "        G.add_edge(start, end, **props)\n",
    "\n",
    "    nx.write_graphml(G, out_file)\n",
    "\n"
   ]
  },
  {
   "cell_type": "code",
   "execution_count": null,
   "metadata": {},
   "outputs": [],
   "source": [
    "def clean(in_file, out_file):\n",
    "    print(out_file)\n",
    "    output = open(out_file, \"w\", encoding=\"utf-8\")\n",
    "    with open(in_file, \"r\", encoding=\"utf-8\") as inputl:\n",
    "        for ln, line in enumerate(inputl):\n",
    "            finder = re.finditer(\"<data (.*?)>(.*?)</data>\", line)\n",
    "            for x in finder:\n",
    "                line = line.replace(\n",
    "                    f\"<data {x.group(1)}>{x.group(2)}</data>\",\n",
    "                    f\"<data {x.group(1)}><![CDATA[{x.group(2)}]]></data>\"\n",
    "                )\n",
    "            output.write(line)\n",
    "    output.close()"
   ]
  },
  {
   "cell_type": "code",
   "execution_count": null,
   "metadata": {},
   "outputs": [],
   "source": [
    "if __name__ == \"__main__\":\n",
    "    arguments = sys.argv[1:]\n",
    "    if len(arguments) == 0:\n",
    "        print(f\"Usage: python json2graphml.py in_file [out_file] [-f] [-c]\")\n",
    "        exit()\n",
    "    in_file = arguments[0]\n",
    "    full = \"-f\" in arguments\n",
    "    clea = \"-c\" in arguments\n",
    "    out_file = in_file.replace(\".json\", \".graphml\")\n",
    "    if clea:\n",
    "        out_file = out_file.replace(\".graphml\", \".clean.graphml\")\n",
    "        clean(in_file, out_file)\n",
    "    else:\n",
    "        convert(in_file, out_file, full)\n",
    "    print(f\"Done, output file saved to: {out_file}\")"
   ]
  }
 ],
 "metadata": {
  "kernelspec": {
   "display_name": "Python 3",
   "language": "python",
   "name": "python3"
  },
  "language_info": {
   "codemirror_mode": {
    "name": "ipython",
    "version": 3
   },
   "file_extension": ".py",
   "mimetype": "text/x-python",
   "name": "python",
   "nbconvert_exporter": "python",
   "pygments_lexer": "ipython3",
   "version": "3.12.3"
  }
 },
 "nbformat": 4,
 "nbformat_minor": 2
}
