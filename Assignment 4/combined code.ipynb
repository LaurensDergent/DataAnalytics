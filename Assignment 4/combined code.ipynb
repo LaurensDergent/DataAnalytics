{
 "cells": [
  {
   "cell_type": "markdown",
   "metadata": {},
   "source": [
    "# Assignment 4\n",
    "\n",
    "Important to remember: \n",
    "\n",
    "You are free to explore anything you deem interesting and present your findings in your report. The\n",
    "main goal is to get familiar with Cypher but also to hone your \"storytelling\" skills. In that sense, try to\n",
    "focus on a single or a few hypotheses or findings you explore in full (with nicely formatted visualizations)\n",
    "and explaining what it says instead of just going for quick filter saying: \"here are the three nodes with\n",
    "the most connections\" (boring) or showing a graph hairball.\n",
    "\n",
    "\n",
    "Pick something you want to explore and try to work this out in full.\n",
    "You will realize that the data set is likely too large to look at everything at once, so a guided “deep dive”\n",
    "will work better. Also, obviously most of the messages will be in Dutch or French, but that should not be\n",
    "too much of a burden to do something interesting."
   ]
  },
  {
   "cell_type": "markdown",
   "metadata": {},
   "source": [
    "Hypothesis: \n",
    "- far left and far right have more interaction + relatively more active engagement (think retweet, requote)\n",
    "- central parties verly little engagement because older population not very present on twitter"
   ]
  },
  {
   "cell_type": "code",
   "execution_count": null,
   "metadata": {},
   "outputs": [],
   "source": [
    "#Load packages\n",
    "import pandas as pd\n",
    "import numpy as np\n",
    "import networkx as nx\n",
    "import itertools"
   ]
  },
  {
   "cell_type": "code",
   "execution_count": null,
   "metadata": {},
   "outputs": [],
   "source": [
    "file_location = \"memgraph-query-results-export.graphml\"\n",
    "graph = nx.read_graphml(file_location)"
   ]
  },
  {
   "cell_type": "markdown",
   "metadata": {},
   "source": [
    "Add the party of the politician. This can be used in Gephi to identify politicians vs normal twitter users"
   ]
  },
  {
   "cell_type": "code",
   "execution_count": null,
   "metadata": {},
   "outputs": [],
   "source": [
    "# Iterate through the edges\n",
    "# Iterate through the edges\n",
    "for source, target, edge_data in graph.edges(data=True):\n",
    "    # Check if the edge represents membership\n",
    "    if edge_data.get(\"edge_type\") == \"MEMBER_OF\":\n",
    "        # Get the party name from the source node\n",
    "        party_node_data = graph.nodes.get(target)\n",
    "        #print(party_node_data)\n",
    "        if party_node_data:\n",
    "            party_name = party_node_data.get(\"Party_label\", None)\n",
    "            if party_name:\n",
    "                # Assign the party name as a new attribute to the source node\n",
    "                graph.nodes[source][\"Party_name\"] = party_name\n"
   ]
  },
  {
   "cell_type": "markdown",
   "metadata": {},
   "source": [
    "As an illustration, this is the type of nodes and edges that we are working with"
   ]
  },
  {
   "cell_type": "code",
   "execution_count": null,
   "metadata": {},
   "outputs": [],
   "source": [
    "\n",
    "# Print the first 10 nodes\n",
    "print(\"First 10 nodes:\")\n",
    "count_nodes = 0\n",
    "for node in graph.nodes(data=True):\n",
    "    print(node)\n",
    "    count_nodes += 1\n",
    "    if count_nodes >= 1000:\n",
    "        break  # Break after printing the first 50 nodes\n",
    "\n",
    "# Print the first 10 edges\n",
    "print(\"First 10 edges:\")\n",
    "count_edges = 0\n",
    "for edge in graph.edges(data=True):\n",
    "    print(edge)\n",
    "    count_edges += 1\n",
    "    if count_edges >= 10:\n",
    "        break  # Break after printing the first 50 edges"
   ]
  },
  {
   "cell_type": "markdown",
   "metadata": {},
   "source": [
    "Here is some code that is used to perform checks with:"
   ]
  },
  {
   "cell_type": "code",
   "execution_count": null,
   "metadata": {},
   "outputs": [],
   "source": [
    "# id to check edges\n",
    "id=\"352012\"\n",
    "\n",
    "for source, target, edge_data in graph.edges(data=True):\n",
    "    if source == id or target == id:\n",
    "        # Print the edge information\n",
    "        print(f\"Edge: {source} -> {target}, Edge Data: {edge_data}\")"
   ]
  },
  {
   "cell_type": "code",
   "execution_count": null,
   "metadata": {},
   "outputs": [],
   "source": [
    "# checks for the nodes\n",
    "id = \"23466\"\n",
    "node_data = graph.nodes[id]\n",
    "print(f\"Node ID: {id}, Node Data: {node_data}\")"
   ]
  },
  {
   "cell_type": "code",
   "execution_count": null,
   "metadata": {},
   "outputs": [],
   "source": [
    "# Define the path where you want to save the file\n",
    "#file_path = \"/Users/sarahguilliams/Desktop/Advanced Analytics in a Big Data World/Assignment 4/modified_graph_party_names.graphml\"\n",
    "\n",
    "# Save the modified graph in .graphml format\n",
    "#nx.write_graphml(graph, file_path)\n"
   ]
  },
  {
   "cell_type": "markdown",
   "metadata": {},
   "source": [
    "Now, try to skip the tweet node and look at the direct interactions between politicians and their twitter account vs the twitter account of someone that interacted with them."
   ]
  },
  {
   "cell_type": "markdown",
   "metadata": {},
   "source": [
    "From these checks, it becomes obvious that some tweets that the politican posted, are replies to their own tweets. "
   ]
  },
  {
   "cell_type": "code",
   "execution_count": null,
   "metadata": {},
   "outputs": [],
   "source": [
    "# id to check edges\n",
    "id = \"338704\" #A tweet posted by a politician, which is a reply to a tweet by a twitter user\n",
    "\n",
    "for source, target, edge_data in graph.edges(data=True):\n",
    "    if source == id or target == id:\n",
    "        # Print the edge information\n",
    "        print(f\"Edge: {source} -> {target}, Edge Data: {edge_data}\")\n",
    "\n",
    "print(\"\\nThe politician that posted the tweet:\")\n",
    "id = \"358639\"\n",
    "node_data = graph.nodes[id]\n",
    "print(f\"Node ID: {id}, Node Data: {node_data}\")\n",
    "\n",
    "print(\"\\nThe tweet in question:\")\n",
    "id = \"338704\"\n",
    "node_data = graph.nodes[id]\n",
    "print(f\"Node ID: {id}, Node Data: {node_data}\")\n",
    "\n",
    "print(\"\\n This is a reply to this tweet:\")\n",
    "id = \"338674\"\n",
    "node_data = graph.nodes[id]\n",
    "print(f\"Node ID: {id}, Node Data: {node_data}\")\n",
    "\n",
    "# This is still an interaction that should be taken into consideration!!!"
   ]
  },
  {
   "cell_type": "markdown",
   "metadata": {},
   "source": [
    "New code:"
   ]
  },
  {
   "cell_type": "code",
   "execution_count": null,
   "metadata": {},
   "outputs": [],
   "source": [
    "\n",
    "graph2 = graph.copy()\n",
    "\n",
    "# Create a list to store edges to remove\n",
    "edges_to_remove = []\n",
    "# Create a list to store edges to add\n",
    "edges_to_add = []\n",
    "\n",
    "edges = list(graph2.edges(data=True))\n",
    "\n",
    "# Iterate over the edge list\n",
    "for source, target, edge_data in edges:\n",
    "    # Check if the edge represents a reply to a tweet\n",
    "    if edge_data.get(\"edge_type\") == \"REPLY_TO\" or edge_data.get(\"edge_type\") == \"QUOTE_OF\":\n",
    "        \n",
    "        reply_tweet_source_id = source # Get the source tweet (i.e. the tweet posted by the user)\n",
    "        reply_tweet_target_id = target # Get the target tweet (i.e. the tweet posted by the politician)\n",
    "\n",
    "        print(f\"TWEET SOURCE: {reply_tweet_source_id}\")\n",
    "        print(f\"TWEET TARGET: {reply_tweet_target_id}\")     \n",
    "           \n",
    "        # Search for edges that end at the reply_tweet node and have edge_type \"POSTED\"\n",
    "        for u, v, e_data in graph2.in_edges(reply_tweet_source_id, data=True):\n",
    "            print(f\"{u}, {v}, {e_data}\")\n",
    "            print(\"Debug1\")\n",
    "            if e_data.get(\"edge_type\") == \"POSTED\":\n",
    "                print(\"Debug2\")\n",
    "                if 'Party_name' not in graph2.nodes[u]: # The user should not be a politician\n",
    "                    print(\"Debug3\")\n",
    "                    user_account = u\n",
    "                    print(f\"Adding edge from {user_account} to {reply_tweet_target_id}\")\n",
    "                    # Add an edge between the user and the original tweet being replied to\n",
    "                    edges_to_add.append((user_account, reply_tweet_target_id, \"INTERACTED_W_TWEET\"))\n",
    "                    \n",
    "                    # Add edges to remove\n",
    "                    edges_to_remove.append((reply_tweet_source_id, reply_tweet_target_id))\n",
    "                    edges_to_remove.append((user_account, reply_tweet_source_id))\n",
    "                else: # because sometimes the politician replied to the tweet\n",
    "                    for w, x, e_data2 in graph2.in_edges(reply_tweet_target_id, data=True):\n",
    "                        print(f\"{w}, {x}, {e_data2}\")\n",
    "                        print(\"Debug4\")\n",
    "                        if e_data2.get(\"edge_type\") == \"POSTED\":\n",
    "                            print(\"Debug5\")\n",
    "                            if 'Party_name' not in graph2.nodes[w]: # The user should not be a politician\n",
    "                                print(\"Debug6\")\n",
    "                                user_account = w\n",
    "                                print(f\"Adding edge from {user_account} to {reply_tweet_source_id}\")\n",
    "                                # Add an edge between the user and the original tweet being replied to\n",
    "                                edges_to_add.append((user_account, reply_tweet_source_id, \"INTERACTED_W_TWEET\"))\n",
    "                                \n",
    "                                # Add edges to remove\n",
    "                                edges_to_remove.append((reply_tweet_source_id, reply_tweet_target_id))\n",
    "                                edges_to_remove.append((user_account, reply_tweet_target_id))\n",
    "\n",
    "# Add new edges\n",
    "for u, v, edge_type in edges_to_add:\n",
    "    graph2.add_edge(u, v, edge_type=edge_type)\n",
    "\n",
    "# Remove edges\n",
    "graph2.remove_edges_from(edges_to_remove)\n"
   ]
  },
  {
   "cell_type": "markdown",
   "metadata": {},
   "source": [
    "Some nodes need to be removed if they have no edges anymore"
   ]
  },
  {
   "cell_type": "code",
   "execution_count": null,
   "metadata": {},
   "outputs": [],
   "source": [
    "nodes_to_remove = []\n",
    "\n",
    "# Iterate over nodes in graph2\n",
    "for node, node_data in graph2.nodes(data=True):\n",
    "    # Check if the node has node_type 'Tweet' and no edges\n",
    "    if node_data.get('node_type') == 'Tweet' and graph2.degree(node) == 0:\n",
    "        # Add the node to the list of nodes to remove\n",
    "        nodes_to_remove.append(node)\n",
    "\n",
    "# Remove nodes with no edges from graph2\n",
    "graph2.remove_nodes_from(nodes_to_remove)"
   ]
  },
  {
   "cell_type": "markdown",
   "metadata": {},
   "source": [
    "## Checks to see if the code works well\n",
    "### check 1: politician: should not have the new edge interacted_w_tweet"
   ]
  },
  {
   "cell_type": "code",
   "execution_count": null,
   "metadata": {},
   "outputs": [],
   "source": [
    "# id to check edges\n",
    "id = \"345384\"\n",
    "\n",
    "for source, target, edge_data in graph2.edges(data=True):\n",
    "    if source == id or target == id:\n",
    "        # Print the edge information\n",
    "        print(f\"Edge: {source} -> {target}, Edge Data: {edge_data}\")"
   ]
  },
  {
   "cell_type": "markdown",
   "metadata": {},
   "source": [
    "### Check one of the tweets by the politician. "
   ]
  },
  {
   "cell_type": "code",
   "execution_count": null,
   "metadata": {},
   "outputs": [],
   "source": [
    "id=\"70155\"\n",
    "\n",
    "for source, target, edge_data in graph2.edges(data=True): \n",
    "    if source == id or target == id:\n",
    "        # Print the edge information\n",
    "        print(f\"Edge: {source} -> {target}, Edge Data: {edge_data}\")"
   ]
  },
  {
   "cell_type": "markdown",
   "metadata": {},
   "source": [
    "### Check a twitter user that is not a politician"
   ]
  },
  {
   "cell_type": "code",
   "execution_count": null,
   "metadata": {},
   "outputs": [],
   "source": [
    "# id to check edges\n",
    "id=\"352012\"\n",
    "\n",
    "for source, target, edge_data in graph2.edges(data=True): \n",
    "    if source == id or target == id:\n",
    "        # Print the edge information\n",
    "        print(f\"Edge: {source} -> {target}, Edge Data: {edge_data}\")"
   ]
  },
  {
   "cell_type": "code",
   "execution_count": null,
   "metadata": {},
   "outputs": [],
   "source": [
    "# Counter to keep track of the number of printed edges\n",
    "count = 0\n",
    "\n",
    "# Iterate through the edges to find INTERACTED_WITH edges\n",
    "for source, target, edge_data in graph2.edges(data=True):\n",
    "    if edge_data.get(\"edge_type\") == \"INTERACTED_W_TWEET\":\n",
    "        print(f\"Tweet Politician {target} <-- INTERACTED_W_TWEET -- User_account {source}\")\n",
    "        count += 1\n",
    "        if count >= 50:\n",
    "            break"
   ]
  },
  {
   "cell_type": "markdown",
   "metadata": {},
   "source": [
    "Save the intermediate file if you want"
   ]
  },
  {
   "cell_type": "code",
   "execution_count": null,
   "metadata": {},
   "outputs": [],
   "source": [
    "# Define the path where you want to save the file\n",
    "#file_path = \"/Users/sarahguilliams/Desktop/Advanced Analytics in a Big Data World/Assignment 4/modified_graph_interaction_with_tweet.graphml\"\n",
    "\n",
    "# Save the modified graph in .graphml format\n",
    "#nx.write_graphml(graph2, file_path)"
   ]
  },
  {
   "cell_type": "markdown",
   "metadata": {},
   "source": [
    "# Now look at the direct interaction between the politician and the user"
   ]
  },
  {
   "cell_type": "markdown",
   "metadata": {},
   "source": [
    "Now create graph 3, which looks at the direct interaction between a politican and a twitter user. There could be more than one interaction, so the edges need to have weights corresponding to the number of interactions that occured. "
   ]
  },
  {
   "cell_type": "markdown",
   "metadata": {},
   "source": [
    "### Adding weights depending on how many times there was an interaction"
   ]
  },
  {
   "cell_type": "code",
   "execution_count": null,
   "metadata": {},
   "outputs": [],
   "source": [
    "# Start from graph 2 and make a copy\n",
    "graph3 = graph2.copy()\n",
    "\n",
    "# Create a list to store edges to remove\n",
    "edges_to_remove = []\n",
    "edges = list(graph3.edges(data=True))\n",
    "\n",
    "# Iterate over the edge list\n",
    "for source, target, edge_data in edges:\n",
    "    if edge_data.get(\"edge_type\") == \"INTERACTED_W_TWEET\":\n",
    "        user_account_id = source  # Get the source (i.e. the user account that is not a politician that posted the tweet)\n",
    "        tweet_id = target  # Get the target (i.e. the tweet that was posted by the politician)\n",
    "\n",
    "        print(f\"USER ACCOUNT: {user_account_id}\")\n",
    "        print(f\"TWEET BY POLITICIAN: {tweet_id}\")\n",
    "\n",
    "        # Search for edges that end at the tweet node and have edge_type \"POSTED\"\n",
    "        for u, v, e_data in graph2.in_edges(tweet_id, data=True):\n",
    "            if e_data.get(\"edge_type\") == \"POSTED\":\n",
    "                politician_account = u  # Then politician_account is the source\n",
    "                print(f\"Adding/incrementing edge from {user_account_id} to {politician_account}\")\n",
    "\n",
    "                # Add or increment an edge between the user and the politician\n",
    "                if graph3.has_edge(user_account_id, politician_account):\n",
    "                    # Increment the weight if the edge already exists\n",
    "                    if 'weight' in graph3[user_account_id][politician_account]:\n",
    "                        graph3[user_account_id][politician_account]['weight'] += 1\n",
    "                    else:\n",
    "                        graph3[user_account_id][politician_account]['weight'] = 2  # If there's already an edge without weight, initialize to 2\n",
    "                else:\n",
    "                    # Add the edge with an initial weight of 1\n",
    "                    graph3.add_edge(user_account_id, politician_account, edge_type=\"INTERACTED_W_POLITICIAN\", weight=1)\n",
    "\n",
    "                # Add edges to remove\n",
    "                edges_to_remove.append((user_account_id, tweet_id))\n",
    "                edges_to_remove.append((politician_account, tweet_id))\n",
    "\n",
    "graph3.remove_edges_from(edges_to_remove)"
   ]
  },
  {
   "cell_type": "code",
   "execution_count": null,
   "metadata": {},
   "outputs": [],
   "source": [
    "# Remove the loose nodes\n",
    "nodes_to_remove = []\n",
    "\n",
    "# Iterate over nodes in graph2\n",
    "for node, node_data in graph3.nodes(data=True):\n",
    "    # Check if the node has node_type 'Tweet' and no edges\n",
    "    if node_data.get('node_type') == 'Tweet' or graph3.degree(node) == 0:\n",
    "        # Add the node to the list of nodes to remove\n",
    "        nodes_to_remove.append(node)\n",
    "\n",
    "# Remove nodes with no edges from graph2\n",
    "graph3.remove_nodes_from(nodes_to_remove)"
   ]
  },
  {
   "cell_type": "markdown",
   "metadata": {},
   "source": [
    "#### Check politician\n",
    "They should still be a member and then interact with different twitter user accounts"
   ]
  },
  {
   "cell_type": "code",
   "execution_count": null,
   "metadata": {},
   "outputs": [],
   "source": [
    "# id to check edges\n",
    "id = \"351970\"\n",
    "\n",
    "for source, target, edge_data in graph3.edges(data=True):\n",
    "    if source == id or target == id:\n",
    "        # Print the edge information\n",
    "        print(f\"Edge: {source} -> {target}, Edge Data: {edge_data}\")\n",
    "\n",
    "# For this interaction, the only ones that remain are tweets that are posted by the politician as a reply to their own tweets:"
   ]
  },
  {
   "cell_type": "code",
   "execution_count": null,
   "metadata": {},
   "outputs": [],
   "source": [
    "#counting the number of tweeets by each politician and number of politicians\n",
    "#based on interactions between politicians and other users\n",
    "counting_pol_tweets = {}\n",
    "for source, target, edge_data in graph3.edges(data=True):\n",
    "    if edge_data.get(\"edge_type\")== 'INTERACTED_W_POLITICIAN':\n",
    "        if target not in counting_pol_tweets:\n",
    "            counting_pol_tweets[target] = 1\n",
    "        counting_pol_tweets[target]  += 1\n",
    "len(counting_pol_tweets)"
   ]
  },
  {
   "cell_type": "code",
   "execution_count": null,
   "metadata": {},
   "outputs": [],
   "source": [
    "#counting the number of polticians based on party membership\n",
    "counting_pols = {}\n",
    "for source, target, edge_data in graph3.edges(data=True):\n",
    "    if edge_data.get(\"edge_type\")== 'MEMBER_OF':\n",
    "        if source not in counting_pols:\n",
    "            counting_pols[source] = 1\n",
    "        counting_pols[source]  += 1  \n",
    "len(counting_pols)"
   ]
  },
  {
   "cell_type": "code",
   "execution_count": null,
   "metadata": {},
   "outputs": [],
   "source": [
    "#find the politician without any interactions\n",
    "keys_pols = set(counting_pols.keys())\n",
    "keys_pol_tweets = set(counting_pol_tweets.keys())\n",
    "\n",
    "no_tweet_pols = keys_pols-keys_pol_tweets\n",
    "no_tweet_pols"
   ]
  },
  {
   "cell_type": "code",
   "execution_count": null,
   "metadata": {},
   "outputs": [],
   "source": [
    "#check in graph 3 for politician with id = 360395\n",
    "count = 0\n",
    "for source, target, edge_data in graph3.edges(data=True):\n",
    "    for id in no_tweet_pols:\n",
    "        if source == id or target == id:\n",
    "            # Print the edge information\n",
    "            if edge_data.get('edge_type') == \"POSTED\":\n",
    "                print(f\"Edge: {source} -> {target}, Edge Data: {edge_data}\")\n",
    "                print(f'{source},{graph3.nodes[source]['node_type']}')\n",
    "                print(f'{target},{graph3.nodes[target]['node_type']}')\n",
    "                count +=1\n",
    "               \n",
    "print(count)"
   ]
  },
  {
   "cell_type": "code",
   "execution_count": null,
   "metadata": {},
   "outputs": [],
   "source": [
    "# id to check edges\n",
    "#check for original graph\n",
    "count = 0\n",
    "for source, target, edge_data in graph.edges(data=True):\n",
    "    for id in no_tweet_pols:\n",
    "        if source == id or target == id:\n",
    "            # Print the edge information\n",
    "            if edge_data.get('edge_type') == \"POSTED\":\n",
    "                print(f\"Edge: {source} -> {target}, Edge Data: {edge_data}\")\n",
    "                print(f'{source},{graph.nodes[source]['followers_count']}')\n",
    "                print(f'{target},{graph.nodes[target]}')\n",
    "                count +=1\n",
    "               \n",
    "print(count)\n",
    "#the politician had one tweet in the original graph but this one\n",
    "#has no interactions (replies or quotes) so it is correct to exclude it"
   ]
  },
  {
   "cell_type": "markdown",
   "metadata": {},
   "source": [
    "### Check a twitter user that is not a politician"
   ]
  },
  {
   "cell_type": "code",
   "execution_count": null,
   "metadata": {},
   "outputs": [],
   "source": [
    "# id to check edges\n",
    "id = \"354726\" # The user => only has the interacted with tweet edge\n",
    "for source, target, edge_data in graph3.edges(data=True):\n",
    "    if source == id or target == id:\n",
    "        # Print the edge information\n",
    "        print(f\"Edge: {source} -> {target}, Edge Data: {edge_data}\")"
   ]
  },
  {
   "cell_type": "code",
   "execution_count": null,
   "metadata": {},
   "outputs": [],
   "source": [
    "# Saving the new graph\n",
    "# Define the path where you want to save the file\n",
    "#file_path = \"/Users/sarahguilliams/Desktop/Advanced Analytics in a Big Data World/Assignment 4/0521_graph.graphml\"\n",
    "\n",
    "# Save the modified graph in .graphml format\n",
    "#nx.write_graphml(graph3, file_path)"
   ]
  },
  {
   "cell_type": "markdown",
   "metadata": {},
   "source": [
    "## Analyse the graph"
   ]
  },
  {
   "cell_type": "code",
   "execution_count": null,
   "metadata": {},
   "outputs": [],
   "source": [
    "louv_com =nx.community.louvain_communities(graph3, weight='weight', seed=12, resolution=0.5)"
   ]
  },
  {
   "cell_type": "code",
   "execution_count": null,
   "metadata": {},
   "outputs": [],
   "source": [
    "len(louv_com)"
   ]
  },
  {
   "cell_type": "code",
   "execution_count": null,
   "metadata": {},
   "outputs": [],
   "source": [
    "#assiging communities as graph feature\n",
    "community_nr = 1\n",
    "for community in louv_com:\n",
    "    print(community_nr)\n",
    "    for node in community:\n",
    "        print(node)\n",
    "        graph3.nodes[node]['community']=community_nr\n",
    "    community_nr += 1"
   ]
  },
  {
   "cell_type": "code",
   "execution_count": null,
   "metadata": {},
   "outputs": [],
   "source": [
    "def intra_inter(graph):\n",
    "    intra = {}\n",
    "    inter = {}\n",
    "\n",
    "    for u, v, edge_data in graph.edges(data=True):\n",
    "        com_node1 = graph.nodes[u]['community']\n",
    "        com_node2 = graph.nodes[v]['community']\n",
    "        if edge_data.get('weight'):\n",
    "            adding = edge_data.get('weight')\n",
    "        else:\n",
    "            adding = 1\n",
    "        if com_node1 == com_node2:\n",
    "            if com_node1 not in intra:\n",
    "                intra[com_node1]=adding\n",
    "            else:\n",
    "                intra[com_node1]+=adding\n",
    "        else:\n",
    "            if (com_node1, com_node2) not in inter:\n",
    "                if (com_node2, com_node1) not in inter:\n",
    "                    inter[(com_node1, com_node2)]=adding\n",
    "                else:\n",
    "                    inter[(com_node2, com_node1)]+=adding\n",
    "            else:\n",
    "                inter[(com_node1, com_node2)]+=adding\n",
    "        \n",
    "    return intra, inter"
   ]
  },
  {
   "cell_type": "code",
   "execution_count": null,
   "metadata": {},
   "outputs": [],
   "source": [
    "intra, inter = intra_inter(graph3)\n",
    "print(f'intra edges: {intra}')\n",
    "print(f'inter edgdes:{inter}')"
   ]
  },
  {
   "cell_type": "code",
   "execution_count": null,
   "metadata": {},
   "outputs": [],
   "source": [
    "compare_intra_inter = {}\n",
    "for community in intra:\n",
    "    count_inter_edges = 0\n",
    "    for edges in inter:\n",
    "        if edges[0] == community or edges[1]== community:\n",
    "            count_inter_edges += inter[edges]\n",
    "    ratio = count_inter_edges/intra[community]\n",
    "    compare_intra_inter[community] = (intra[community], count_inter_edges,ratio)\n",
    "\n",
    "compare_intra_inter"
   ]
  },
  {
   "cell_type": "code",
   "execution_count": null,
   "metadata": {},
   "outputs": [],
   "source": [
    "modularity_louv = nx.community.modularity(graph3, louv_com)\n",
    "modularity_louv"
   ]
  },
  {
   "cell_type": "code",
   "execution_count": null,
   "metadata": {},
   "outputs": [],
   "source": [
    "greed_com = nx.community.greedy_modularity_communities(graph3, weight = 'weight', resolution=0.5,\n",
    "                                                       cutoff=3, best_n=10)"
   ]
  },
  {
   "cell_type": "code",
   "execution_count": null,
   "metadata": {},
   "outputs": [],
   "source": [
    "modularity_greed = nx.community.modularity(graph3, greed_com)\n",
    "modularity_greed"
   ]
  },
  {
   "cell_type": "code",
   "execution_count": null,
   "metadata": {},
   "outputs": [],
   "source": [
    "girv_com = nx.community.girvan_newman(graph3)"
   ]
  },
  {
   "cell_type": "code",
   "execution_count": null,
   "metadata": {},
   "outputs": [],
   "source": [
    "modularity_girv = nx.community.modularity(graph3, girv_com)\n",
    "modularity_girv"
   ]
  }
 ],
 "metadata": {
  "kernelspec": {
   "display_name": "base",
   "language": "python",
   "name": "python3"
  },
  "language_info": {
   "codemirror_mode": {
    "name": "ipython",
    "version": 3
   },
   "file_extension": ".py",
   "mimetype": "text/x-python",
   "name": "python",
   "nbconvert_exporter": "python",
   "pygments_lexer": "ipython3",
   "version": "3.12.3"
  }
 },
 "nbformat": 4,
 "nbformat_minor": 2
}
