{
 "cells": [
  {
   "cell_type": "markdown",
   "metadata": {},
   "source": [
    "# Assignment 4\n",
    "\n",
    "Important to remember: \n",
    "\n",
    "You are free to explore anything you deem interesting and present your findings in your report. The\n",
    "main goal is to get familiar with Cypher but also to hone your \"storytelling\" skills. In that sense, try to\n",
    "focus on a single or a few hypotheses or findings you explore in full (with nicely formatted visualizations)\n",
    "and explaining what it says instead of just going for quick filter saying: \"here are the three nodes with\n",
    "the most connections\" (boring) or showing a graph hairball.\n",
    "\n",
    "\n",
    "Pick something you want to explore and try to work this out in full.\n",
    "You will realize that the data set is likely too large to look at everything at once, so a guided “deep dive”\n",
    "will work better. Also, obviously most of the messages will be in Dutch or French, but that should not be\n",
    "too much of a burden to do something interesting."
   ]
  },
  {
   "cell_type": "markdown",
   "metadata": {},
   "source": [
    "Hypothesis: \n",
    "- far left and far right have more interaction + relatively more active engagement (think retweet, requote)\n",
    "- central parties verly little engagement because older population not very present on twitter"
   ]
  },
  {
   "cell_type": "code",
   "execution_count": null,
   "metadata": {},
   "outputs": [],
   "source": [
    "#Load packages\n",
    "import pandas as pd\n",
    "import numpy as np\n",
    "import networkx as nx\n",
    "import itertools"
   ]
  },
  {
   "cell_type": "code",
   "execution_count": null,
   "metadata": {},
   "outputs": [],
   "source": [
    "file_location = \"memgraph-query-results-export.graphml\"\n",
    "graph = nx.read_graphml(file_location)"
   ]
  },
  {
   "cell_type": "markdown",
   "metadata": {},
   "source": [
    "Add the party of the politician"
   ]
  },
  {
   "cell_type": "code",
   "execution_count": null,
   "metadata": {},
   "outputs": [],
   "source": [
    "# Iterate through the edges\n",
    "# Iterate through the edges\n",
    "for source, target, edge_data in graph.edges(data=True):\n",
    "    # Check if the edge represents membership\n",
    "    if edge_data.get(\"edge_type\") == \"MEMBER_OF\":\n",
    "        # Get the party name from the source node\n",
    "        party_node_data = graph.nodes.get(target)\n",
    "        #print(party_node_data)\n",
    "        if party_node_data:\n",
    "            party_name = party_node_data.get(\"Party_label\", None)\n",
    "            if party_name:\n",
    "                # Assign the party name as a new attribute to the source node\n",
    "                graph.nodes[source][\"Party_name\"] = party_name\n"
   ]
  },
  {
   "cell_type": "code",
   "execution_count": null,
   "metadata": {},
   "outputs": [],
   "source": [
    "# Print the first 10 nodes\n",
    "print(\"First 10 nodes:\")\n",
    "count_nodes = 0\n",
    "for node in graph.nodes(data=True):\n",
    "    print(node)\n",
    "    count_nodes += 1\n",
    "    if count_nodes >= 10:\n",
    "        break  # Break after printing the first 50 nodes\n",
    "\n",
    "# Print the first 10 edges\n",
    "print(\"First 10 edges:\")\n",
    "count_edges = 0\n",
    "for edge in graph.edges(data=True):\n",
    "    print(edge)\n",
    "    count_edges += 1\n",
    "    if count_edges >= 10:\n",
    "        break  # Break after printing the first 50 edges"
   ]
  },
  {
   "cell_type": "code",
   "execution_count": null,
   "metadata": {},
   "outputs": [],
   "source": [
    "# id to check edges\n",
    "#id = \"364226\" #Twitter user\n",
    "id = \"25155\" # A tweet that this user posted\n",
    "id=\"352012\"\n",
    "\n",
    "for source, target, edge_data in graph.edges(data=True):\n",
    "    if source == id or target == id:\n",
    "        # Print the edge information\n",
    "        print(f\"Edge: {source} -> {target}, Edge Data: {edge_data}\")"
   ]
  },
  {
   "cell_type": "code",
   "execution_count": null,
   "metadata": {},
   "outputs": [],
   "source": [
    "# Define the path where you want to save the file\n",
    "#file_path = \"/Users/sarahguilliams/Desktop/Advanced Analytics in a Big Data World/Assignment 4/modified_graph_party_names.graphml\"\n",
    "\n",
    "# Save the modified graph in .graphml format\n",
    "#nx.write_graphml(graph, file_path)\n"
   ]
  },
  {
   "cell_type": "code",
   "execution_count": null,
   "metadata": {},
   "outputs": [],
   "source": [
    "count=0\n",
    "# Iterate over the nodes in the graph\n",
    "for node in graph.nodes:\n",
    "    # Check if the node does not have a Party_label attribute\n",
    "    if 'Party_label' not in graph.nodes[node]:\n",
    "        # Print the node\n",
    "        print(node)\n",
    "        # Increment the counter\n",
    "        count += 1\n",
    "        # Break the loop after printing 20 nodes\n",
    "        if count >= 20:\n",
    "            break"
   ]
  },
  {
   "cell_type": "markdown",
   "metadata": {},
   "source": [
    "Now, try to skip the tweet node and look at the direct interactions between politicians and their twitter account vs the twitter account of someone that interacted with them."
   ]
  },
  {
   "cell_type": "markdown",
   "metadata": {},
   "source": [
    "From these checks, it becomes obvious that some tweets that the politican posted, are replies to their own tweets. "
   ]
  },
  {
   "cell_type": "code",
   "execution_count": null,
   "metadata": {},
   "outputs": [],
   "source": [
    "# id to check edges\n",
    "id = \"25149\" #A tweet posted by a politician\n",
    "\n",
    "for source, target, edge_data in graph.edges(data=True):\n",
    "    if source == id or target == id:\n",
    "        # Print the edge information\n",
    "        print(f\"Edge: {source} -> {target}, Edge Data: {edge_data}\")"
   ]
  },
  {
   "cell_type": "code",
   "execution_count": null,
   "metadata": {},
   "outputs": [],
   "source": [
    "# id to check edges\n",
    "id = \"25150\" #a tweet posted by a politician that I think is a reply to another tweet?\n",
    "\n",
    "for source, target, edge_data in graph.edges(data=True):\n",
    "    if source == id or target == id:\n",
    "        # Print the edge information\n",
    "        print(f\"Edge: {source} -> {target}, Edge Data: {edge_data}\")\n",
    "        print(graph.nodes[source]['node_type'])\n",
    "        print(graph.nodes[target]['node_type'])\n",
    "        "
   ]
  },
  {
   "cell_type": "code",
   "execution_count": null,
   "metadata": {},
   "outputs": [],
   "source": [
    "# id to check edges\n",
    "id = \"25151\" #\n",
    "\n",
    "for source, target, edge_data in graph.edges(data=True):\n",
    "    if source == id or target == id:\n",
    "        # Print the edge information\n",
    "        print(f\"Edge: {source} -> {target}, Edge Data: {edge_data}\")\n",
    "        print(graph.nodes[source]['node_type'])\n",
    "        print(graph.nodes[target]['node_type'])"
   ]
  },
  {
   "cell_type": "code",
   "execution_count": null,
   "metadata": {},
   "outputs": [],
   "source": [
    "# check if this works better\n",
    "graph2 = graph.copy()\n",
    "\n",
    "# Create a list to store edges to remove\n",
    "edges_to_remove = []\n",
    "\n",
    "edges = list(graph2.edges(data=True))\n",
    "\n",
    "# Iterate over the edge list\n",
    "for source, target, edge_data in edges:\n",
    "    # Check if the edge represents a reply to a tweet\n",
    "    if edge_data.get(\"edge_type\") == \"REPLY_TO\" or edge_data.get(\"edge_type\") == \"QUOTE_OF\":\n",
    "        \n",
    "        reply_tweet_source_id = source # Get the source tweet (i.e. the tweet posted by the user)\n",
    "        reply_tweet_target_id = target # Get the target tweet (i.e. the tweet posted by the politician)\n",
    "\n",
    "        print(f\"TWEET SOURCE: {reply_tweet_source_id}\")\n",
    "        print(f\"TWEET TARGET: {reply_tweet_target_id}\")     \n",
    "           \n",
    "        # Search for edges that end at the reply_tweet node and have edge_type \"POSTED\"\n",
    "        for u,v, e_data in graph2.in_edges(reply_tweet_source_id, data=True):\n",
    "            print(f\"{u}, {v}, {e_data}\")\n",
    "            print(\"Debug1\")\n",
    "            if e_data.get(\"edge_type\") == \"POSTED\":\n",
    "                print(\"Debug2\")\n",
    "                if 'Party_name' not in graph2.nodes[u]: #The user should not be a politician\n",
    "                    print(\"Debug3\")\n",
    "                    user_account = u\n",
    "                    print(f\"Adding edge from {user_account} to {reply_tweet_target_id}\")\n",
    "                    # Add an edge between the user and the original tweet being replied to\n",
    "                    graph2.add_edge(user_account, reply_tweet_target_id, edge_type=\"INTERACTED_W_TWEET\")\n",
    "                    \n",
    "                    # Add edges to remove\n",
    "                    edges_to_remove.append((reply_tweet_source_id, reply_tweet_target_id))\n",
    "                    edges_to_remove.append((user_account, reply_tweet_source_id))\n",
    "\n",
    "# Remove edges\n",
    "graph2.remove_edges_from(edges_to_remove)\n"
   ]
  },
  {
   "cell_type": "markdown",
   "metadata": {},
   "source": [
    "Some nodes need to be removed if they have no edges anymore"
   ]
  },
  {
   "cell_type": "code",
   "execution_count": null,
   "metadata": {},
   "outputs": [],
   "source": [
    "nodes_to_remove = []\n",
    "\n",
    "# Iterate over nodes in graph2\n",
    "for node, node_data in graph2.nodes(data=True):\n",
    "    # Check if the node has node_type 'Tweet' and no edges\n",
    "    if node_data.get('node_type') == 'Tweet' and graph2.degree(node) == 0:\n",
    "        # Add the node to the list of nodes to remove\n",
    "        nodes_to_remove.append(node)\n",
    "\n",
    "# Remove nodes with no edges from graph2\n",
    "graph2.remove_nodes_from(nodes_to_remove)"
   ]
  },
  {
   "cell_type": "markdown",
   "metadata": {},
   "source": [
    "## Checks to see if the code works well\n",
    "### check 1: politician: should not have the new edge interacted_w_tweet"
   ]
  },
  {
   "cell_type": "code",
   "execution_count": null,
   "metadata": {},
   "outputs": [],
   "source": [
    "# id to check edges\n",
    "id = \"345384\"\n",
    "\n",
    "for source, target, edge_data in graph2.edges(data=True):\n",
    "    if source == id or target == id:\n",
    "        # Print the edge information\n",
    "        print(f\"Edge: {source} -> {target}, Edge Data: {edge_data}\")"
   ]
  },
  {
   "cell_type": "markdown",
   "metadata": {},
   "source": [
    "### Check one of the tweets by the politician. "
   ]
  },
  {
   "cell_type": "code",
   "execution_count": null,
   "metadata": {},
   "outputs": [],
   "source": [
    "id = \"25148\"\n",
    "id= \"4706\"\n",
    "id=\"211479\"\n",
    "\n",
    "for source, target, edge_data in graph2.edges(data=True): \n",
    "    if source == id or target == id:\n",
    "        # Print the edge information\n",
    "        print(f\"Edge: {source} -> {target}, Edge Data: {edge_data}\")"
   ]
  },
  {
   "cell_type": "markdown",
   "metadata": {},
   "source": [
    "### Check a twitter user that is not a politician"
   ]
  },
  {
   "cell_type": "code",
   "execution_count": null,
   "metadata": {},
   "outputs": [],
   "source": [
    "# id to check edges\n",
    "id = \"347660\"\n",
    "id=\"352012\"\n",
    "\n",
    "for source, target, edge_data in graph2.edges(data=True): \n",
    "    if source == id or target == id:\n",
    "        # Print the edge information\n",
    "        print(f\"Edge: {source} -> {target}, Edge Data: {edge_data}\")"
   ]
  },
  {
   "cell_type": "code",
   "execution_count": null,
   "metadata": {},
   "outputs": [],
   "source": [
    "# id to check edges\n",
    "id = \"40726\"\n",
    "#id=\"347634\"\n",
    "for source, target, edge_data in graph2.edges(data=True): \n",
    "    if source == id or target == id:\n",
    "        # Print the edge information\n",
    "        print(f\"Edge: {source} -> {target}, Edge Data: {edge_data}\")"
   ]
  },
  {
   "cell_type": "code",
   "execution_count": null,
   "metadata": {},
   "outputs": [],
   "source": [
    "# Counter to keep track of the number of printed edges\n",
    "count = 0\n",
    "\n",
    "# Iterate through the edges to find INTERACTED_WITH edges\n",
    "for source, target, edge_data in graph2.edges(data=True):\n",
    "    if edge_data.get(\"edge_type\") == \"INTERACTED_W_TWEET\":\n",
    "        print(f\"Tweet Politician {target} <-- INTERACTED_W_TWEET -- User_account {source}\")\n",
    "        count += 1\n",
    "        if count >= 50:\n",
    "            break"
   ]
  },
  {
   "cell_type": "markdown",
   "metadata": {},
   "source": [
    "Save the intermediate file if you want"
   ]
  },
  {
   "cell_type": "code",
   "execution_count": null,
   "metadata": {},
   "outputs": [],
   "source": [
    "# Define the path where you want to save the file\n",
    "#file_path = \"/Users/sarahguilliams/Desktop/Advanced Analytics in a Big Data World/Assignment 4/modified_graph_interaction_with_tweet.graphml\"\n",
    "\n",
    "# Save the modified graph in .graphml format\n",
    "#nx.write_graphml(graph2, file_path)"
   ]
  },
  {
   "cell_type": "markdown",
   "metadata": {},
   "source": [
    "# Now look at the direct interaction between the politician and the user"
   ]
  },
  {
   "cell_type": "markdown",
   "metadata": {},
   "source": [
    "Now create graph 3, which looks at the direct interaction between a politican and a twitter user. There could be more than one interaction, so the edges need to have weights corresponding to the number of interactions that occured. "
   ]
  },
  {
   "cell_type": "markdown",
   "metadata": {},
   "source": [
    "### Adding weights depending on how many times there was an interaction"
   ]
  },
  {
   "cell_type": "code",
   "execution_count": null,
   "metadata": {},
   "outputs": [],
   "source": [
    "# Start from graph 2 and make a copy\n",
    "graph3 = graph2.copy()\n",
    "\n",
    "# Create a list to store edges to remove\n",
    "edges_to_remove = []\n",
    "edges = list(graph3.edges(data=True))\n",
    "\n",
    "# Iterate over the edge list\n",
    "for source, target, edge_data in edges:\n",
    "    if edge_data.get(\"edge_type\") == \"INTERACTED_W_TWEET\":\n",
    "        user_account_id = source  # Get the source (i.e. the user account that is not a politician that posted the tweet)\n",
    "        tweet_id = target  # Get the target (i.e. the tweet that was posted by the politician)\n",
    "\n",
    "        print(f\"USER ACCOUNT: {user_account_id}\")\n",
    "        print(f\"TWEET BY POLITICIAN: {tweet_id}\")\n",
    "\n",
    "        # Search for edges that end at the tweet node and have edge_type \"POSTED\"\n",
    "        for u, v, e_data in graph2.in_edges(tweet_id, data=True):\n",
    "            if e_data.get(\"edge_type\") == \"POSTED\":\n",
    "                politician_account = u  # Then politician_account is the source\n",
    "                print(f\"Adding/incrementing edge from {user_account_id} to {politician_account}\")\n",
    "\n",
    "                # Add or increment an edge between the user and the politician\n",
    "                if graph3.has_edge(user_account_id, politician_account):\n",
    "                    # Increment the weight if the edge already exists\n",
    "                    if 'weight' in graph3[user_account_id][politician_account]:\n",
    "                        graph3[user_account_id][politician_account]['weight'] += 1\n",
    "                    else:\n",
    "                        graph3[user_account_id][politician_account]['weight'] = 2  # If there's already an edge without weight, initialize to 2\n",
    "                else:\n",
    "                    # Add the edge with an initial weight of 1\n",
    "                    graph3.add_edge(user_account_id, politician_account, edge_type=\"INTERACTED_W_POLITICIAN\", weight=1)\n",
    "\n",
    "                # Add edges to remove\n",
    "                edges_to_remove.append((user_account_id, tweet_id))\n",
    "                edges_to_remove.append((politician_account, tweet_id))\n",
    "\n",
    "graph3.remove_edges_from(edges_to_remove)"
   ]
  },
  {
   "cell_type": "code",
   "execution_count": null,
   "metadata": {},
   "outputs": [],
   "source": [
    "# Remove the loose nodes\n",
    "nodes_to_remove = []\n",
    "\n",
    "# Iterate over nodes in graph2\n",
    "for node, node_data in graph3.nodes(data=True):\n",
    "    # Check if the node has node_type 'Tweet' and no edges\n",
    "    if node_data.get('node_type') == 'Tweet': #and graph3.degree(node) == 0:\n",
    "        # Add the node to the list of nodes to remove\n",
    "        nodes_to_remove.append(node)\n",
    "\n"
   ]
  },
  {
   "cell_type": "code",
   "execution_count": null,
   "metadata": {},
   "outputs": [],
   "source": [
    "for node in nodes_to_remove:\n",
    "    if graph3.nodes[node]['node_type'] == 'User':\n",
    "        print(graph3.nodes[node]['node_type'])"
   ]
  },
  {
   "cell_type": "code",
   "execution_count": null,
   "metadata": {},
   "outputs": [],
   "source": [
    "nodes_to_remove"
   ]
  },
  {
   "cell_type": "code",
   "execution_count": null,
   "metadata": {},
   "outputs": [],
   "source": [
    "# Remove nodes with no edges from graph2\n",
    "graph3.remove_nodes_from(nodes_to_remove)"
   ]
  },
  {
   "cell_type": "code",
   "execution_count": null,
   "metadata": {},
   "outputs": [],
   "source": [
    "count = 0\n",
    "for node, node_data in graph3.nodes(data = True):\n",
    "    print(f'{node},{graph3.nodes[node]}')\n",
    "    count +=1\n",
    "    if count == 50:\n",
    "        break"
   ]
  },
  {
   "cell_type": "markdown",
   "metadata": {},
   "source": [
    "#### Check politician\n",
    "They should still be a member and then interact with different twitter user accounts"
   ]
  },
  {
   "cell_type": "code",
   "execution_count": null,
   "metadata": {},
   "outputs": [],
   "source": [
    "counting_pol_tweets = {}\n",
    "for source, target, edge_data in graph3.edges(data=True):\n",
    "    if edge_data.get(\"edge_type\")== 'INTERACTED_W_POLITICIAN':\n",
    "        if target not in counting_pol_tweets:\n",
    "            counting_pol_tweets[target] = 1\n",
    "        counting_pol_tweets[target]  += 1   \n",
    "        "
   ]
  },
  {
   "cell_type": "code",
   "execution_count": null,
   "metadata": {},
   "outputs": [],
   "source": [
    "counting_pols = {}\n",
    "for source, target, edge_data in graph3.edges(data=True):\n",
    "    if edge_data.get(\"edge_type\")== 'MEMBER_OF':\n",
    "        if source not in counting_pols:\n",
    "            counting_pols[source] = 1\n",
    "        counting_pols[source]  += 1  "
   ]
  },
  {
   "cell_type": "code",
   "execution_count": null,
   "metadata": {},
   "outputs": [],
   "source": [
    "len(counting_pols)"
   ]
  },
  {
   "cell_type": "code",
   "execution_count": null,
   "metadata": {},
   "outputs": [],
   "source": [
    "len(counting_pol_tweets)"
   ]
  },
  {
   "cell_type": "code",
   "execution_count": null,
   "metadata": {},
   "outputs": [],
   "source": [
    "keys_pols = set(counting_pols.keys())\n",
    "keys_pol_tweets = set(counting_pol_tweets.keys())\n",
    "\n",
    "no_tweet_pols = keys_pols-keys_pol_tweets\n",
    "no_tweet_pols\n",
    "#polticians without any tweets"
   ]
  },
  {
   "cell_type": "code",
   "execution_count": null,
   "metadata": {},
   "outputs": [],
   "source": [
    "# id to check edges\n",
    "#check for  graph 3\n",
    "count = 0\n",
    "for source, target, edge_data in graph3.edges(data=True):\n",
    "    for id in no_tweet_pols:\n",
    "        if source == id or target == id:\n",
    "            # Print the edge information\n",
    "            if edge_data.get('edge_type') == \"POSTED\":\n",
    "                print(f\"Edge: {source} -> {target}, Edge Data: {edge_data}\")\n",
    "                print(f'{source},{graph3.nodes[source]['node_type']}')\n",
    "                print(f'{target},{graph3.nodes[target]['node_type']}')\n",
    "                count +=1\n",
    "               \n",
    "print(count)\n",
    "# For this interaction, the first posted are edges to tweets that he posted, but that are replies to his own tweets that nobody interacted with. "
   ]
  },
  {
   "cell_type": "code",
   "execution_count": null,
   "metadata": {},
   "outputs": [],
   "source": [
    "# id to check edges\n",
    "#check for original graph\n",
    "count = 0\n",
    "for source, target, edge_data in graph.edges(data=True):\n",
    "    for id in no_tweet_pols:\n",
    "        if source == id or target == id:\n",
    "            # Print the edge information\n",
    "            if edge_data.get('edge_type') == \"POSTED\":\n",
    "                print(f\"Edge: {source} -> {target}, Edge Data: {edge_data}\")\n",
    "                print(f'{source},{graph.nodes[source]['followers_count']}')\n",
    "                print(f'{target},{graph.nodes[target]['node_type']}')\n",
    "                count +=1\n",
    "               \n",
    "print(count)\n",
    "# For this interaction, the first posted are edges to tweets that he posted, but that are replies to his own tweets that nobody interacted with. "
   ]
  },
  {
   "cell_type": "code",
   "execution_count": null,
   "metadata": {},
   "outputs": [],
   "source": [
    "count = 0\n",
    "nodes_to_remove = []\n",
    "for node in graph3.nodes():\n",
    "    if graph3.out_degree(node) == 0 and graph3.in_degree(node)== 0:\n",
    "        nodes_to_remove.append(node)\n",
    "        print(node)\n",
    "        count +=1\n",
    "\n",
    "count\n"
   ]
  },
  {
   "cell_type": "code",
   "execution_count": null,
   "metadata": {},
   "outputs": [],
   "source": [
    "graph3.remove_nodes_from(nodes_to_remove)"
   ]
  },
  {
   "cell_type": "markdown",
   "metadata": {},
   "source": [
    "## Check a twitter user that is not a politician"
   ]
  },
  {
   "cell_type": "code",
   "execution_count": null,
   "metadata": {},
   "outputs": [],
   "source": [
    "# id to check edges\n",
    "id = \"434353\" # The user => only has the interacted with tweet edge\n",
    "for source, target, edge_data in graph3.edges(data=True):\n",
    "    if source == id or target == id:\n",
    "        # Print the edge information\n",
    "        print(f\"Edge: {source} -> {target}, Edge Data: {edge_data}\")"
   ]
  },
  {
   "cell_type": "code",
   "execution_count": null,
   "metadata": {},
   "outputs": [],
   "source": [
    "# Saving the new graph\n",
    "# Define the path where you want to save the file\n",
    "#file_path = \"/Users/sarahguilliams/Desktop/Advanced Analytics in a Big Data World/Assignment 4/modified_graph_interaction_politician_user.graphml\"\n",
    "\n",
    "# Save the modified graph in .graphml format\n",
    "#nx.write_graphml(graph3, file_path)"
   ]
  },
  {
   "cell_type": "markdown",
   "metadata": {},
   "source": [
    "## Analyse the graph"
   ]
  },
  {
   "cell_type": "code",
   "execution_count": null,
   "metadata": {},
   "outputs": [],
   "source": [
    "louv_com =nx.community.louvain_communities(graph3, seed=12, resolution=0.1)"
   ]
  },
  {
   "cell_type": "code",
   "execution_count": null,
   "metadata": {},
   "outputs": [],
   "source": [
    "len(louv_com)"
   ]
  },
  {
   "cell_type": "code",
   "execution_count": null,
   "metadata": {},
   "outputs": [],
   "source": [
    "#for the actual  data set\n",
    "community_nr = 1\n",
    "for community in louv_com:\n",
    "    print(community_nr)\n",
    "    for node in community:\n",
    "        print(node)\n",
    "        graph3.nodes[node]['community']=community_nr\n",
    "    community_nr += 1"
   ]
  },
  {
   "cell_type": "code",
   "execution_count": null,
   "metadata": {},
   "outputs": [],
   "source": [
    "def intra_inter(graph):\n",
    "    intra = {}\n",
    "    inter = {}\n",
    "\n",
    "    for u, v in graph.edges():\n",
    "        com_node1 = graph.nodes[u]['community']\n",
    "        com_node2 = graph.nodes[v]['community']\n",
    "        if com_node1 == com_node2:\n",
    "            if com_node1 not in intra:\n",
    "                intra[com_node1]=1\n",
    "            else:\n",
    "                intra[com_node1]+=1\n",
    "        else:\n",
    "            if (com_node1, com_node2) not in inter:\n",
    "                if (com_node2, com_node1) not in inter:\n",
    "                    inter[(com_node1, com_node2)]=1\n",
    "                else:\n",
    "                    inter[(com_node2, com_node1)]+=1\n",
    "            else:\n",
    "                inter[(com_node1, com_node2)]+=1\n",
    "        \n",
    "    return intra, inter"
   ]
  },
  {
   "cell_type": "code",
   "execution_count": null,
   "metadata": {},
   "outputs": [],
   "source": [
    "#for actual data set\n",
    "intra, inter = intra_inter(graph3)\n",
    "print(f'intra edges: {intra}')\n",
    "print(f'inter edgdes:{inter}')"
   ]
  },
  {
   "cell_type": "code",
   "execution_count": null,
   "metadata": {},
   "outputs": [],
   "source": [
    "compare_intra_inter = {}\n",
    "for community in intra:\n",
    "    count_inter_edges = 0\n",
    "    for edges in inter:\n",
    "        if edges[0] == community or edges[1]== community:\n",
    "            count_inter_edges += inter[edges]\n",
    "    ratio = count_inter_edges/intra[community]\n",
    "    compare_intra_inter[community] = (intra[community], count_inter_edges,ratio)\n",
    "\n",
    "compare_intra_inter"
   ]
  },
  {
   "cell_type": "code",
   "execution_count": null,
   "metadata": {},
   "outputs": [],
   "source": [
    "#make subgraph for community 1\n",
    "nodes_in_com1 = [node for node ,attr in graph3.nodes(data=True) if attr.get('community') ==1]\n",
    "subgraph_com1 = graph3.subgraph(nodes_in_com1).copy()"
   ]
  },
  {
   "cell_type": "code",
   "execution_count": null,
   "metadata": {},
   "outputs": [],
   "source": [
    "louv_com_sub1 =nx.community.louvain_communities(subgraph_com1, seed=12, resolution=1)"
   ]
  },
  {
   "cell_type": "code",
   "execution_count": null,
   "metadata": {},
   "outputs": [],
   "source": [
    "len(louv_com_sub1)"
   ]
  },
  {
   "cell_type": "code",
   "execution_count": null,
   "metadata": {},
   "outputs": [],
   "source": [
    "id = 367736\n",
    "\n",
    "count = 0\n",
    "for source, target, edge_data in graph.edges(data=True):\n",
    "    if source == id or target == id:\n",
    "        print(f\"Edge: {source} -> {target}, Edge Data: {edge_data}\")\n",
    "        count += 1\n",
    "        if count >= 50:\n",
    "            break\n"
   ]
  },
  {
   "cell_type": "code",
   "execution_count": null,
   "metadata": {},
   "outputs": [],
   "source": [
    "modularity = nx.community.modularity(subgraph_com1, louv_com_sub1)\n",
    "modularity"
   ]
  },
  {
   "cell_type": "code",
   "execution_count": null,
   "metadata": {},
   "outputs": [],
   "source": [
    "#for the actual  data set\n",
    "community_nr = 1\n",
    "for community in louv_com_sub1:\n",
    "    print(community_nr)\n",
    "    for node in community:\n",
    "        print(node)\n",
    "        subgraph_com1.nodes[node]['community']=community_nr\n",
    "    community_nr += 1"
   ]
  },
  {
   "cell_type": "code",
   "execution_count": null,
   "metadata": {},
   "outputs": [],
   "source": [
    "#for actual data set\n",
    "intra2, inter2 = intra_inter(subgraph_com1)\n",
    "print(f'intra edges: {intra2}')\n",
    "print(f'inter edgdes:{inter2}')"
   ]
  },
  {
   "cell_type": "code",
   "execution_count": null,
   "metadata": {},
   "outputs": [],
   "source": [
    "compare_intra_inter2 = {}\n",
    "for community in intra2:\n",
    "    count_inter_edges2 = 0\n",
    "    for edges in inter2:\n",
    "        if edges[0] == community or edges[1]== community:\n",
    "            count_inter_edges2 += inter2[edges]\n",
    "    ratio = count_inter_edges2/intra2[community]\n",
    "    compare_intra_inter2[community] = (intra2[community], count_inter_edges2,ratio)\n",
    "\n",
    "compare_intra_inter2"
   ]
  }
 ],
 "metadata": {
  "kernelspec": {
   "display_name": "base",
   "language": "python",
   "name": "python3"
  },
  "language_info": {
   "codemirror_mode": {
    "name": "ipython",
    "version": 3
   },
   "file_extension": ".py",
   "mimetype": "text/x-python",
   "name": "python",
   "nbconvert_exporter": "python",
   "pygments_lexer": "ipython3",
   "version": "3.12.3"
  }
 },
 "nbformat": 4,
 "nbformat_minor": 2
}
